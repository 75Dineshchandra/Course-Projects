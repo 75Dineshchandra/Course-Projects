{
 "cells": [
  {
   "cell_type": "code",
   "execution_count": 1,
   "id": "64a061f5",
   "metadata": {},
   "outputs": [],
   "source": [
    "import numpy as np\n",
    "import pandas as pd\n",
    "import matplotlib.pyplot as plt\n",
    "%matplotlib inline"
   ]
  },
  {
   "cell_type": "code",
   "execution_count": 2,
   "id": "9fa35eda",
   "metadata": {},
   "outputs": [
    {
     "data": {
      "text/plain": [
       "array([3, 5, 7, 9])"
      ]
     },
     "execution_count": 2,
     "metadata": {},
     "output_type": "execute_result"
    }
   ],
   "source": [
    "ar=[]\n",
    "for i in range(3,11):\n",
    "    if(i%2==1):\n",
    "        ar.append(i)\n",
    "arrr=np.array(list(ar))\n",
    "arr=np.array([3,5,7,9])\n",
    "arrr"
   ]
  },
  {
   "cell_type": "code",
   "execution_count": 3,
   "id": "9bb476ee",
   "metadata": {},
   "outputs": [
    {
     "name": "stdout",
     "output_type": "stream",
     "text": [
      "<class 'numpy.ndarray'> , 1\n",
      "int32\n"
     ]
    },
    {
     "data": {
      "text/plain": [
       "'1.21.4'"
      ]
     },
     "execution_count": 3,
     "metadata": {},
     "output_type": "execute_result"
    }
   ],
   "source": [
    "print(type(arrr),\",\",np.ndim(arrr))\n",
    "print(arrr.dtype)\n",
    "np.__version__"
   ]
  },
  {
   "cell_type": "code",
   "execution_count": 4,
   "id": "82ad18a0",
   "metadata": {},
   "outputs": [
    {
     "name": "stdout",
     "output_type": "stream",
     "text": [
      "3\n",
      "number of dimensions : 5\n"
     ]
    }
   ],
   "source": [
    "arr = np.array([[1,5],[2,3], [4,6]], ndmin=5)\n",
    "#as n dimis 5 so use depth of arr is 5\n",
    "print(arr[0,0,0,1,1])\n",
    "print('number of dimensions :', arr.ndim)"
   ]
  },
  {
   "cell_type": "code",
   "execution_count": 5,
   "id": "584e8064",
   "metadata": {},
   "outputs": [
    {
     "name": "stdout",
     "output_type": "stream",
     "text": [
      "2nd element on 1st row:  2\n",
      "[2 4]\n"
     ]
    },
    {
     "data": {
      "text/plain": [
       "array([[1, 2, 3]])"
      ]
     },
     "execution_count": 5,
     "metadata": {},
     "output_type": "execute_result"
    }
   ],
   "source": [
    "arr = np.array([[1,2,3,4,5], [6,7,8,9,10]])\n",
    "print('2nd element on 1st row: ', arr[0, 1])\n",
    "#slicing 2-d arr\n",
    "# accesing 2-d arr 0 index element and with step 2 from index [1,4)\n",
    "print(arr[0,1:4:2])\n",
    "# 0r accesing two or more\n",
    "arr[0:4:2,0:3:1]"
   ]
  },
  {
   "cell_type": "code",
   "execution_count": 6,
   "id": "4ac8427a",
   "metadata": {},
   "outputs": [
    {
     "name": "stdout",
     "output_type": "stream",
     "text": [
      "(array([ 2,  4,  5,  7,  9, 10, 11], dtype=int64),)\n"
     ]
    },
    {
     "data": {
      "text/plain": [
       "array([4, 7, 9])"
      ]
     },
     "execution_count": 6,
     "metadata": {},
     "output_type": "execute_result"
    }
   ],
   "source": [
    "arr=np.array([1,5,2,3,4,6,7,8,9,0,12,24])\n",
    "print(np.where(arr%2 == 0))\n",
    "arr[4:10:2]"
   ]
  },
  {
   "cell_type": "markdown",
   "id": "29516886",
   "metadata": {},
   "source": [
    "i - integer\n",
    "b - boolean\n",
    "u - unsigned integer\n",
    "f - float\n",
    "c - complex float\n",
    "m - timedelta\n",
    "M - datetime\n",
    "O - object\n",
    "S - string\n",
    "U - unicode string\n",
    "V - fixed chunk of memory for other type ( void )"
   ]
  },
  {
   "cell_type": "code",
   "execution_count": 7,
   "id": "93378af1",
   "metadata": {},
   "outputs": [
    {
     "name": "stdout",
     "output_type": "stream",
     "text": [
      "(12,)\n",
      "[[ 1  0  2  3]\n",
      " [ 4  6  7  8]\n",
      " [ 9  0 12 24]]\n"
     ]
    },
    {
     "data": {
      "text/plain": [
       "(array([ 1,  5,  2,  3,  4,  6,  7,  8,  9,  0, 12, 24]),\n",
       " array([ 1,  0,  2,  3,  4,  6,  7,  8,  9,  0, 12, 24]),\n",
       " array([ 1,  0,  2,  3,  4,  6,  7,  8,  9,  0, 12, 24]))"
      ]
     },
     "execution_count": 7,
     "metadata": {},
     "output_type": "execute_result"
    }
   ],
   "source": [
    "x=arr.copy()\n",
    "y=arr.view()\n",
    "arr[1]=0\n",
    "print(arr.shape)\n",
    "print(arr.reshape(3,4))\n",
    "x,y,arr"
   ]
  },
  {
   "cell_type": "code",
   "execution_count": 8,
   "id": "ae682fc6",
   "metadata": {},
   "outputs": [
    {
     "name": "stdout",
     "output_type": "stream",
     "text": [
      "1 2 3 4 5 6 7 8 9 10 11 12 \n",
      "1 2 3 4 5 6 7 8 9 10 11 12 \n",
      "(0, 0, 0) , 1 ; (0, 0, 1) , 2 ; (0, 0, 2) , 3 ; (0, 1, 0) , 4 ; (0, 1, 1) , 5 ; (0, 1, 2) , 6 ; (1, 0, 0) , 7 ; (1, 0, 1) , 8 ; (1, 0, 2) , 9 ; (1, 1, 0) , 10 ; (1, 1, 1) , 11 ; (1, 1, 2) , 12 ; "
     ]
    }
   ],
   "source": [
    "arr = np.array([[[1, 2, 3], [4, 5, 6]], [[7, 8, 9], [10, 11, 12]]])\n",
    "\n",
    "for x in arr:\n",
    "  for y in x:\n",
    "    for z in y:\n",
    "      print(z,end=' ')\n",
    "print()\n",
    "for i in np.nditer(arr):\n",
    "    print(i,end=' ')\n",
    "print()\n",
    "for idx, x in np.ndenumerate(arr):\n",
    "  print(idx,',', x,';',end=' ')"
   ]
  },
  {
   "cell_type": "code",
   "execution_count": 9,
   "id": "ea472adb",
   "metadata": {},
   "outputs": [
    {
     "name": "stdout",
     "output_type": "stream",
     "text": [
      "26 0.2714241336660881\n",
      "[[ 4 44 39 28 78]\n",
      " [77 66 77 57 62]\n",
      " [71 53  8 12 17]]\n",
      "None\n"
     ]
    },
    {
     "data": {
      "text/plain": [
       "array([[[ 7,  8,  9],\n",
       "        [10, 11, 12]],\n",
       "\n",
       "       [[ 1,  2,  3],\n",
       "        [ 4,  5,  6]]])"
      ]
     },
     "execution_count": 9,
     "metadata": {},
     "output_type": "execute_result"
    }
   ],
   "source": [
    "x = np.random.randint(100)\n",
    "y = np.random.rand()\n",
    "print(x,y)\n",
    "x=np.random.randint(100, size=(3,5))\n",
    "print(x)\n",
    "o=np.random.permutation(arr)\n",
    "print(np.random.shuffle(arr))\n",
    "o"
   ]
  },
  {
   "cell_type": "code",
   "execution_count": 10,
   "id": "a0c3bbfd",
   "metadata": {},
   "outputs": [
    {
     "name": "stdout",
     "output_type": "stream",
     "text": [
      "[[9 7 5 3 5]\n",
      " [5 9 5 7 3]\n",
      " [9 7 5 5 7]]\n"
     ]
    },
    {
     "data": {
      "text/plain": [
       "array([7, 7, 3, 7, 7, 7, 9, 9, 9, 7, 3, 7, 7, 3, 9, 3, 7, 9, 9, 5, 3, 9,\n",
       "       5, 5, 9, 7, 3, 7, 9, 7, 9, 9, 9, 3, 9, 7, 3, 7, 9, 9, 9, 7, 9, 3,\n",
       "       7, 3, 7, 3, 9, 7, 7, 7, 9, 9, 7, 3, 7, 9, 7, 9, 9, 7, 9, 3, 3, 7,\n",
       "       7, 9, 9, 9, 7, 3, 9, 7, 7, 7, 9, 7, 9, 9, 7, 5, 7, 7, 9, 9, 9, 9,\n",
       "       7, 9, 7, 7, 7, 7, 9, 7, 3, 3, 7, 3])"
      ]
     },
     "execution_count": 10,
     "metadata": {},
     "output_type": "execute_result"
    }
   ],
   "source": [
    "x = np.random.choice([3, 5, 7, 9], size=(3, 5))\n",
    "print(x)\n",
    "x=np.random.choice([3,5,7,9],p=[0.2,0.1,0.3,0.4],size=(100))\n",
    "x"
   ]
  },
  {
   "cell_type": "code",
   "execution_count": 11,
   "id": "e8003cfa",
   "metadata": {},
   "outputs": [
    {
     "data": {
      "text/plain": [
       "(array([[-0.35740934,  0.76614808, -1.57388254],\n",
       "        [ 0.20483749, -2.01295663, -2.33834787],\n",
       "        [ 0.8555545 ,  0.75347074, -0.747239  ],\n",
       "        [ 0.28096546, -1.87426015, -0.91536413]]),\n",
       " array([[3, 0, 1, 1],\n",
       "        [2, 2, 2, 4],\n",
       "        [0, 2, 4, 0]]),\n",
       " array([ 7,  8,  9,  9, 10,  9,  7,  7,  8,  8]),\n",
       " array([ 7, 11, 11,  6,  8, 21,  9, 13, 10,  5]),\n",
       " array([[ 2.17605117,  3.85107077, 18.4395735 ],\n",
       "        [-0.32221271,  2.4620414 ,  2.87566418]]))"
      ]
     },
     "execution_count": 11,
     "metadata": {},
     "output_type": "execute_result"
    }
   ],
   "source": [
    "bin=np.random.binomial(n=10,p=0.8 ,size=1000)\n",
    "nor=np.random.normal(size=(4,3))\n",
    "poi=np.random.poisson(lam=2 ,size=(3,4))\n",
    "poi_2=np.random.poisson(lam=10 ,size=1000)\n",
    "log = np.random.logistic(loc=1, scale=2, size=(2, 3))\n",
    "nor,poi,bin[:10],poi_2[:10],log"
   ]
  },
  {
   "cell_type": "code",
   "execution_count": 12,
   "id": "e71adf57",
   "metadata": {},
   "outputs": [
    {
     "data": {
      "text/plain": [
       "[<matplotlib.lines.Line2D at 0x20edb5ca250>]"
      ]
     },
     "execution_count": 12,
     "metadata": {},
     "output_type": "execute_result"
    },
    {
     "data": {
      "image/png": "[encoded data removed]",
      "text/plain": [
       "<Figure size 432x288 with 1 Axes>"
      ]
     },
     "metadata": {
      "needs_background": "light"
     },
     "output_type": "display_data"
    }
   ],
   "source": [
    "plt.plot(bin,color='brown')"
   ]
  },
  {
   "cell_type": "code",
   "execution_count": 13,
   "id": "60adcd95",
   "metadata": {},
   "outputs": [
    {
     "data": {
      "text/plain": [
       "[<matplotlib.lines.Line2D at 0x20ede6a3ac0>]"
      ]
     },
     "execution_count": 13,
     "metadata": {},
     "output_type": "execute_result"
    },
    {
     "data": {
      "image/png": "[encoded data removed]",
      "text/plain": [
       "<Figure size 432x288 with 1 Axes>"
      ]
     },
     "metadata": {
      "needs_background": "light"
     },
     "output_type": "display_data"
    }
   ],
   "source": [
    "plt.plot(poi_2,color='orange')"
   ]
  },
  {
   "cell_type": "code",
   "execution_count": 14,
   "id": "4ef5217d",
   "metadata": {},
   "outputs": [
    {
     "data": {
      "text/plain": [
       "array([0, 0, 0, 2, 2, 2])"
      ]
     },
     "execution_count": 14,
     "metadata": {},
     "output_type": "execute_result"
    }
   ],
   "source": [
    "x = np.random.multinomial(n=6, pvals=[1/6, 1/6, 1/6, 1/6, 1/6, 1/6])\n",
    "x"
   ]
  },
  {
   "cell_type": "code",
   "execution_count": 15,
   "id": "47fe3997",
   "metadata": {},
   "outputs": [
    {
     "name": "stdout",
     "output_type": "stream",
     "text": [
      "[ 6  8 10 12]\n"
     ]
    }
   ],
   "source": [
    "def myadd(x, y):\n",
    "    # gives concatenate\n",
    "    #return x+y\n",
    "    #bottom 2 give same output\n",
    "    return np.add(x,y)\n",
    "    #return np.array(x)+np.array(y)\n",
    "\n",
    "# similarly concatenate,power,add,subtract,divide,multiply etc:\n",
    "#divmod gives both remainder and quoteint\n",
    "print(myadd([1, 2, 3, 4], [5, 6, 7, 8]))"
   ]
  },
  {
   "cell_type": "code",
   "execution_count": 16,
   "id": "e6f61191",
   "metadata": {},
   "outputs": [
    {
     "name": "stdout",
     "output_type": "stream",
     "text": [
      "[-3.  3.]\n"
     ]
    },
    {
     "data": {
      "text/plain": [
       "array([0.30103   , 0.47712125, 0.60205999, 0.69897   , 0.77815125,\n",
       "       0.84509804])"
      ]
     },
     "execution_count": 16,
     "metadata": {},
     "output_type": "execute_result"
    }
   ],
   "source": [
    "arr = np.trunc([-3.1666, 3.6667])\n",
    "print(arr)\n",
    "#similarly fix works same and other fxns exist like around(num,n_to_be_rounded_to),ceil,flooretc\n",
    "arr=np.array([2,3,4,5,6,7])\n",
    "np.log10(arr)#10 can be any base needed,default is e"
   ]
  },
  {
   "cell_type": "code",
   "execution_count": 17,
   "id": "24f3dc03",
   "metadata": {},
   "outputs": [
    {
     "name": "stdout",
     "output_type": "stream",
     "text": [
      "2520\n",
      "[0.01745329 0.03490659 0.05235988 0.06981317 0.08726646 0.10471976\n",
      " 0.12217305 0.13962634 0.15707963 0.17453293]\n"
     ]
    },
    {
     "data": {
      "text/plain": [
       "(array([ 1,  2,  3,  4,  5,  6,  7,  8,  9, 10]), None)"
      ]
     },
     "execution_count": 17,
     "metadata": {},
     "output_type": "execute_result"
    }
   ],
   "source": [
    "arr = np.arange(1, 11)\n",
    "x = np.lcm.reduce(arr)\n",
    "print(x)\n",
    "arr, print(np.deg2rad(arr))#lly rad2deg\n",
    "# lly gcd replace lcm with gcd to find gcd "
   ]
  },
  {
   "cell_type": "code",
   "execution_count": 18,
   "id": "bf25621d",
   "metadata": {},
   "outputs": [
    {
     "name": "stdout",
     "output_type": "stream",
     "text": [
      "[<matplotlib.lines.Line2D object at 0x0000020EDE722250>]\n"
     ]
    },
    {
     "data": {
      "image/png": "[encoded data removed]",
      "text/plain": [
       "<Figure size 432x288 with 1 Axes>"
      ]
     },
     "metadata": {
      "needs_background": "light"
     },
     "output_type": "display_data"
    }
   ],
   "source": [
    "arr = np.array([np.pi/2, np.pi/3, np.pi/4, np.pi/5])\n",
    "\n",
    "x = np.sin(arr)\n",
    "\n",
    "print(plt.plot(x))\n"
   ]
  },
  {
   "cell_type": "code",
   "execution_count": 19,
   "id": "bd901369",
   "metadata": {},
   "outputs": [
    {
     "name": "stdout",
     "output_type": "stream",
     "text": [
      "[ 1.57079633 -1.57079633  0.10016742]\n"
     ]
    }
   ],
   "source": [
    "arr = np.array([1, -1, 0.1])\n",
    "\n",
    "x = np.arcsin(arr)\n",
    "\n",
    "print(x)#produces radian values of sin inverse (arr)\n",
    "#lly tan cos and others"
   ]
  },
  {
   "cell_type": "code",
   "execution_count": 20,
   "id": "55b30d43",
   "metadata": {},
   "outputs": [
    {
     "data": {
      "text/plain": [
       "array([1, 2, 3, 4, 5, 6])"
      ]
     },
     "execution_count": 20,
     "metadata": {},
     "output_type": "execute_result"
    }
   ],
   "source": [
    "arr=[1,2,3,4,2,4,5,5,6,3]\n",
    "x = np.unique(arr)#returns unique values in arr\n",
    "x"
   ]
  },
  {
   "cell_type": "code",
   "execution_count": 21,
   "id": "0d75b648",
   "metadata": {},
   "outputs": [
    {
     "name": "stdout",
     "output_type": "stream",
     "text": [
      "[1 2 3 4 5 6]\n"
     ]
    },
    {
     "data": {
      "text/plain": [
       "array([3, 4])"
      ]
     },
     "execution_count": 21,
     "metadata": {},
     "output_type": "execute_result"
    }
   ],
   "source": [
    "arr1 = np.array([1, 2, 3, 4])\n",
    "arr2 = np.array([3, 4, 5, 6])\n",
    "\n",
    "newarr = np.union1d(arr1, arr2)\n",
    "print(newarr)\n",
    "#similarly intersection\n",
    "np.intersect1d(arr1, arr2)"
   ]
  },
  {
   "cell_type": "code",
   "execution_count": 22,
   "id": "57374d40",
   "metadata": {},
   "outputs": [
    {
     "name": "stdout",
     "output_type": "stream",
     "text": [
      "[[6 6 6]\n",
      " [6 6 6]\n",
      " [6 6 6]\n",
      " [4 4 4]\n",
      " [4 4 4]\n",
      " [4 4 4]]\n",
      "[[6 6 6 4 4 4]\n",
      " [6 6 6 4 4 4]\n",
      " [6 6 6 4 4 4]]\n"
     ]
    },
    {
     "data": {
      "text/plain": [
       "array([[10, 10, 10],\n",
       "       [10, 10, 10],\n",
       "       [10, 10, 10]])"
      ]
     },
     "execution_count": 22,
     "metadata": {},
     "output_type": "execute_result"
    }
   ],
   "source": [
    "arr1=[]\n",
    "arr2=[]\n",
    "for i in range(3):\n",
    "    arr1.append([6,6,6])\n",
    "    arr2.append([4,4,4])\n",
    "arr1=np.array(list(arr1))\n",
    "arr2=np.array(list(arr2))\n",
    "ar=np.concatenate((arr1,arr2))\n",
    "arr=np.concatenate((arr1,arr2),axis=1)\n",
    "print(ar)\n",
    "print(arr)\n",
    "arr1+arr2    "
   ]
  },
  {
   "cell_type": "code",
   "execution_count": 23,
   "id": "f901878b",
   "metadata": {},
   "outputs": [
    {
     "data": {
      "text/plain": [
       "array([[10, 10],\n",
       "       [10, 10]])"
      ]
     },
     "execution_count": 23,
     "metadata": {},
     "output_type": "execute_result"
    }
   ],
   "source": [
    "ar=np.full([2, 2], 6, dtype = int)\n",
    "arr=np.full([2, 2], 4, dtype = int)\n",
    "a=ar+arr\n",
    "a"
   ]
  },
  {
   "cell_type": "code",
   "execution_count": 24,
   "id": "143cb036",
   "metadata": {},
   "outputs": [
    {
     "name": "stdout",
     "output_type": "stream",
     "text": [
      "[10 10]\n",
      "[10 10]\n"
     ]
    }
   ],
   "source": [
    "for i in a:\n",
    "    print(i)"
   ]
  },
  {
   "cell_type": "code",
   "execution_count": 25,
   "id": "3239c226",
   "metadata": {},
   "outputs": [
    {
     "data": {
      "text/plain": [
       "array([0.  , 0.01, 0.02, 0.03, 0.04, 0.05, 0.06, 0.07, 0.08, 0.09, 0.1 ,\n",
       "       0.11, 0.12, 0.13, 0.14, 0.15, 0.16, 0.17, 0.18, 0.19, 0.2 , 0.21,\n",
       "       0.22, 0.23, 0.24, 0.25, 0.26, 0.27, 0.28, 0.29, 0.3 , 0.31, 0.32,\n",
       "       0.33, 0.34, 0.35, 0.36, 0.37, 0.38, 0.39, 0.4 , 0.41, 0.42, 0.43,\n",
       "       0.44, 0.45, 0.46, 0.47, 0.48, 0.49, 0.5 , 0.51, 0.52, 0.53, 0.54,\n",
       "       0.55, 0.56, 0.57, 0.58, 0.59, 0.6 , 0.61, 0.62, 0.63, 0.64, 0.65,\n",
       "       0.66, 0.67, 0.68, 0.69, 0.7 , 0.71, 0.72, 0.73, 0.74, 0.75, 0.76,\n",
       "       0.77, 0.78, 0.79, 0.8 , 0.81, 0.82, 0.83, 0.84, 0.85, 0.86, 0.87,\n",
       "       0.88, 0.89, 0.9 , 0.91, 0.92, 0.93, 0.94, 0.95, 0.96, 0.97, 0.98,\n",
       "       0.99, 1.  , 1.01, 1.02, 1.03, 1.04, 1.05, 1.06, 1.07, 1.08, 1.09,\n",
       "       1.1 , 1.11, 1.12, 1.13, 1.14, 1.15, 1.16, 1.17, 1.18, 1.19, 1.2 ,\n",
       "       1.21, 1.22, 1.23, 1.24, 1.25, 1.26, 1.27, 1.28, 1.29, 1.3 , 1.31,\n",
       "       1.32, 1.33, 1.34, 1.35, 1.36, 1.37, 1.38, 1.39, 1.4 , 1.41, 1.42,\n",
       "       1.43, 1.44, 1.45, 1.46, 1.47, 1.48, 1.49, 1.5 , 1.51, 1.52, 1.53,\n",
       "       1.54, 1.55, 1.56, 1.57, 1.58, 1.59, 1.6 , 1.61, 1.62, 1.63, 1.64,\n",
       "       1.65, 1.66, 1.67, 1.68, 1.69, 1.7 , 1.71, 1.72, 1.73, 1.74, 1.75,\n",
       "       1.76, 1.77, 1.78, 1.79, 1.8 , 1.81, 1.82, 1.83, 1.84, 1.85, 1.86,\n",
       "       1.87, 1.88, 1.89, 1.9 , 1.91, 1.92, 1.93, 1.94, 1.95, 1.96, 1.97,\n",
       "       1.98, 1.99, 2.  , 2.01, 2.02, 2.03, 2.04, 2.05, 2.06, 2.07, 2.08,\n",
       "       2.09, 2.1 , 2.11, 2.12, 2.13, 2.14, 2.15, 2.16, 2.17, 2.18, 2.19,\n",
       "       2.2 , 2.21, 2.22, 2.23, 2.24, 2.25, 2.26, 2.27, 2.28, 2.29, 2.3 ,\n",
       "       2.31, 2.32, 2.33, 2.34, 2.35, 2.36, 2.37, 2.38, 2.39, 2.4 , 2.41,\n",
       "       2.42, 2.43, 2.44, 2.45, 2.46, 2.47, 2.48, 2.49, 2.5 , 2.51, 2.52,\n",
       "       2.53, 2.54, 2.55, 2.56, 2.57, 2.58, 2.59, 2.6 , 2.61, 2.62, 2.63,\n",
       "       2.64, 2.65, 2.66, 2.67, 2.68, 2.69, 2.7 , 2.71, 2.72, 2.73, 2.74,\n",
       "       2.75, 2.76, 2.77, 2.78, 2.79, 2.8 , 2.81, 2.82, 2.83, 2.84, 2.85,\n",
       "       2.86, 2.87, 2.88, 2.89, 2.9 , 2.91, 2.92, 2.93, 2.94, 2.95, 2.96,\n",
       "       2.97, 2.98, 2.99, 3.  , 3.01, 3.02, 3.03, 3.04, 3.05, 3.06, 3.07,\n",
       "       3.08, 3.09, 3.1 , 3.11, 3.12, 3.13])"
      ]
     },
     "execution_count": 25,
     "metadata": {},
     "output_type": "execute_result"
    }
   ],
   "source": [
    "arr=np.arange(0,3.14,0.01)\n",
    "arr"
   ]
  },
  {
   "cell_type": "code",
   "execution_count": 26,
   "id": "736df8a7",
   "metadata": {},
   "outputs": [
    {
     "data": {
      "text/plain": [
       "array([0.        , 0.00314314, 0.00628629, 0.00942943, 0.01257257,\n",
       "       0.01571572, 0.01885886, 0.022002  , 0.02514515, 0.02828829,\n",
       "       0.03143143, 0.03457457, 0.03771772, 0.04086086, 0.044004  ,\n",
       "       0.04714715, 0.05029029, 0.05343343, 0.05657658, 0.05971972,\n",
       "       0.06286286, 0.06600601, 0.06914915, 0.07229229, 0.07543544,\n",
       "       0.07857858, 0.08172172, 0.08486486, 0.08800801, 0.09115115,\n",
       "       0.09429429, 0.09743744, 0.10058058, 0.10372372, 0.10686687,\n",
       "       0.11001001, 0.11315315, 0.1162963 , 0.11943944, 0.12258258,\n",
       "       0.12572573, 0.12886887, 0.13201201, 0.13515516, 0.1382983 ,\n",
       "       0.14144144, 0.14458458, 0.14772773, 0.15087087, 0.15401401,\n",
       "       0.15715716, 0.1603003 , 0.16344344, 0.16658659, 0.16972973,\n",
       "       0.17287287, 0.17601602, 0.17915916, 0.1823023 , 0.18544545,\n",
       "       0.18858859, 0.19173173, 0.19487487, 0.19801802, 0.20116116,\n",
       "       0.2043043 , 0.20744745, 0.21059059, 0.21373373, 0.21687688,\n",
       "       0.22002002, 0.22316316, 0.22630631, 0.22944945, 0.23259259,\n",
       "       0.23573574, 0.23887888, 0.24202202, 0.24516517, 0.24830831,\n",
       "       0.25145145, 0.25459459, 0.25773774, 0.26088088, 0.26402402,\n",
       "       0.26716717, 0.27031031, 0.27345345, 0.2765966 , 0.27973974,\n",
       "       0.28288288, 0.28602603, 0.28916917, 0.29231231, 0.29545546,\n",
       "       0.2985986 , 0.30174174, 0.30488488, 0.30802803, 0.31117117,\n",
       "       0.31431431, 0.31745746, 0.3206006 , 0.32374374, 0.32688689,\n",
       "       0.33003003, 0.33317317, 0.33631632, 0.33945946, 0.3426026 ,\n",
       "       0.34574575, 0.34888889, 0.35203203, 0.35517518, 0.35831832,\n",
       "       0.36146146, 0.3646046 , 0.36774775, 0.37089089, 0.37403403,\n",
       "       0.37717718, 0.38032032, 0.38346346, 0.38660661, 0.38974975,\n",
       "       0.39289289, 0.39603604, 0.39917918, 0.40232232, 0.40546547,\n",
       "       0.40860861, 0.41175175, 0.41489489, 0.41803804, 0.42118118,\n",
       "       0.42432432, 0.42746747, 0.43061061, 0.43375375, 0.4368969 ,\n",
       "       0.44004004, 0.44318318, 0.44632633, 0.44946947, 0.45261261,\n",
       "       0.45575576, 0.4588989 , 0.46204204, 0.46518519, 0.46832833,\n",
       "       0.47147147, 0.47461461, 0.47775776, 0.4809009 , 0.48404404,\n",
       "       0.48718719, 0.49033033, 0.49347347, 0.49661662, 0.49975976,\n",
       "       0.5029029 , 0.50604605, 0.50918919, 0.51233233, 0.51547548,\n",
       "       0.51861862, 0.52176176, 0.5249049 , 0.52804805, 0.53119119,\n",
       "       0.53433433, 0.53747748, 0.54062062, 0.54376376, 0.54690691,\n",
       "       0.55005005, 0.55319319, 0.55633634, 0.55947948, 0.56262262,\n",
       "       0.56576577, 0.56890891, 0.57205205, 0.5751952 , 0.57833834,\n",
       "       0.58148148, 0.58462462, 0.58776777, 0.59091091, 0.59405405,\n",
       "       0.5971972 , 0.60034034, 0.60348348, 0.60662663, 0.60976977,\n",
       "       0.61291291, 0.61605606, 0.6191992 , 0.62234234, 0.62548549,\n",
       "       0.62862863, 0.63177177, 0.63491491, 0.63805806, 0.6412012 ,\n",
       "       0.64434434, 0.64748749, 0.65063063, 0.65377377, 0.65691692,\n",
       "       0.66006006, 0.6632032 , 0.66634635, 0.66948949, 0.67263263,\n",
       "       0.67577578, 0.67891892, 0.68206206, 0.68520521, 0.68834835,\n",
       "       0.69149149, 0.69463463, 0.69777778, 0.70092092, 0.70406406,\n",
       "       0.70720721, 0.71035035, 0.71349349, 0.71663664, 0.71977978,\n",
       "       0.72292292, 0.72606607, 0.72920921, 0.73235235, 0.7354955 ,\n",
       "       0.73863864, 0.74178178, 0.74492492, 0.74806807, 0.75121121,\n",
       "       0.75435435, 0.7574975 , 0.76064064, 0.76378378, 0.76692693,\n",
       "       0.77007007, 0.77321321, 0.77635636, 0.7794995 , 0.78264264,\n",
       "       0.78578579, 0.78892893, 0.79207207, 0.79521522, 0.79835836,\n",
       "       0.8015015 , 0.80464464, 0.80778779, 0.81093093, 0.81407407,\n",
       "       0.81721722, 0.82036036, 0.8235035 , 0.82664665, 0.82978979,\n",
       "       0.83293293, 0.83607608, 0.83921922, 0.84236236, 0.84550551,\n",
       "       0.84864865, 0.85179179, 0.85493493, 0.85807808, 0.86122122,\n",
       "       0.86436436, 0.86750751, 0.87065065, 0.87379379, 0.87693694,\n",
       "       0.88008008, 0.88322322, 0.88636637, 0.88950951, 0.89265265,\n",
       "       0.8957958 , 0.89893894, 0.90208208, 0.90522523, 0.90836837,\n",
       "       0.91151151, 0.91465465, 0.9177978 , 0.92094094, 0.92408408,\n",
       "       0.92722723, 0.93037037, 0.93351351, 0.93665666, 0.9397998 ,\n",
       "       0.94294294, 0.94608609, 0.94922923, 0.95237237, 0.95551552,\n",
       "       0.95865866, 0.9618018 , 0.96494494, 0.96808809, 0.97123123,\n",
       "       0.97437437, 0.97751752, 0.98066066, 0.9838038 , 0.98694695,\n",
       "       0.99009009, 0.99323323, 0.99637638, 0.99951952, 1.00266266,\n",
       "       1.00580581, 1.00894895, 1.01209209, 1.01523524, 1.01837838,\n",
       "       1.02152152, 1.02466466, 1.02780781, 1.03095095, 1.03409409,\n",
       "       1.03723724, 1.04038038, 1.04352352, 1.04666667, 1.04980981,\n",
       "       1.05295295, 1.0560961 , 1.05923924, 1.06238238, 1.06552553,\n",
       "       1.06866867, 1.07181181, 1.07495495, 1.0780981 , 1.08124124,\n",
       "       1.08438438, 1.08752753, 1.09067067, 1.09381381, 1.09695696,\n",
       "       1.1001001 , 1.10324324, 1.10638639, 1.10952953, 1.11267267,\n",
       "       1.11581582, 1.11895896, 1.1221021 , 1.12524525, 1.12838839,\n",
       "       1.13153153, 1.13467467, 1.13781782, 1.14096096, 1.1441041 ,\n",
       "       1.14724725, 1.15039039, 1.15353353, 1.15667668, 1.15981982,\n",
       "       1.16296296, 1.16610611, 1.16924925, 1.17239239, 1.17553554,\n",
       "       1.17867868, 1.18182182, 1.18496496, 1.18810811, 1.19125125,\n",
       "       1.19439439, 1.19753754, 1.20068068, 1.20382382, 1.20696697,\n",
       "       1.21011011, 1.21325325, 1.2163964 , 1.21953954, 1.22268268,\n",
       "       1.22582583, 1.22896897, 1.23211211, 1.23525526, 1.2383984 ,\n",
       "       1.24154154, 1.24468468, 1.24782783, 1.25097097, 1.25411411,\n",
       "       1.25725726, 1.2604004 , 1.26354354, 1.26668669, 1.26982983,\n",
       "       1.27297297, 1.27611612, 1.27925926, 1.2824024 , 1.28554555,\n",
       "       1.28868869, 1.29183183, 1.29497497, 1.29811812, 1.30126126,\n",
       "       1.3044044 , 1.30754755, 1.31069069, 1.31383383, 1.31697698,\n",
       "       1.32012012, 1.32326326, 1.32640641, 1.32954955, 1.33269269,\n",
       "       1.33583584, 1.33897898, 1.34212212, 1.34526527, 1.34840841,\n",
       "       1.35155155, 1.35469469, 1.35783784, 1.36098098, 1.36412412,\n",
       "       1.36726727, 1.37041041, 1.37355355, 1.3766967 , 1.37983984,\n",
       "       1.38298298, 1.38612613, 1.38926927, 1.39241241, 1.39555556,\n",
       "       1.3986987 , 1.40184184, 1.40498498, 1.40812813, 1.41127127,\n",
       "       1.41441441, 1.41755756, 1.4207007 , 1.42384384, 1.42698699,\n",
       "       1.43013013, 1.43327327, 1.43641642, 1.43955956, 1.4427027 ,\n",
       "       1.44584585, 1.44898899, 1.45213213, 1.45527528, 1.45841842,\n",
       "       1.46156156, 1.4647047 , 1.46784785, 1.47099099, 1.47413413,\n",
       "       1.47727728, 1.48042042, 1.48356356, 1.48670671, 1.48984985,\n",
       "       1.49299299, 1.49613614, 1.49927928, 1.50242242, 1.50556557,\n",
       "       1.50870871, 1.51185185, 1.51499499, 1.51813814, 1.52128128,\n",
       "       1.52442442, 1.52756757, 1.53071071, 1.53385385, 1.536997  ,\n",
       "       1.54014014, 1.54328328, 1.54642643, 1.54956957, 1.55271271,\n",
       "       1.55585586, 1.558999  , 1.56214214, 1.56528529, 1.56842843,\n",
       "       1.57157157, 1.57471471, 1.57785786, 1.581001  , 1.58414414,\n",
       "       1.58728729, 1.59043043, 1.59357357, 1.59671672, 1.59985986,\n",
       "       1.603003  , 1.60614615, 1.60928929, 1.61243243, 1.61557558,\n",
       "       1.61871872, 1.62186186, 1.62500501, 1.62814815, 1.63129129,\n",
       "       1.63443443, 1.63757758, 1.64072072, 1.64386386, 1.64700701,\n",
       "       1.65015015, 1.65329329, 1.65643644, 1.65957958, 1.66272272,\n",
       "       1.66586587, 1.66900901, 1.67215215, 1.6752953 , 1.67843844,\n",
       "       1.68158158, 1.68472472, 1.68786787, 1.69101101, 1.69415415,\n",
       "       1.6972973 , 1.70044044, 1.70358358, 1.70672673, 1.70986987,\n",
       "       1.71301301, 1.71615616, 1.7192993 , 1.72244244, 1.72558559,\n",
       "       1.72872873, 1.73187187, 1.73501502, 1.73815816, 1.7413013 ,\n",
       "       1.74444444, 1.74758759, 1.75073073, 1.75387387, 1.75701702,\n",
       "       1.76016016, 1.7633033 , 1.76644645, 1.76958959, 1.77273273,\n",
       "       1.77587588, 1.77901902, 1.78216216, 1.78530531, 1.78844845,\n",
       "       1.79159159, 1.79473473, 1.79787788, 1.80102102, 1.80416416,\n",
       "       1.80730731, 1.81045045, 1.81359359, 1.81673674, 1.81987988,\n",
       "       1.82302302, 1.82616617, 1.82930931, 1.83245245, 1.8355956 ,\n",
       "       1.83873874, 1.84188188, 1.84502503, 1.84816817, 1.85131131,\n",
       "       1.85445445, 1.8575976 , 1.86074074, 1.86388388, 1.86702703,\n",
       "       1.87017017, 1.87331331, 1.87645646, 1.8795996 , 1.88274274,\n",
       "       1.88588589, 1.88902903, 1.89217217, 1.89531532, 1.89845846,\n",
       "       1.9016016 , 1.90474474, 1.90788789, 1.91103103, 1.91417417,\n",
       "       1.91731732, 1.92046046, 1.9236036 , 1.92674675, 1.92988989,\n",
       "       1.93303303, 1.93617618, 1.93931932, 1.94246246, 1.94560561,\n",
       "       1.94874875, 1.95189189, 1.95503504, 1.95817818, 1.96132132,\n",
       "       1.96446446, 1.96760761, 1.97075075, 1.97389389, 1.97703704,\n",
       "       1.98018018, 1.98332332, 1.98646647, 1.98960961, 1.99275275,\n",
       "       1.9958959 , 1.99903904, 2.00218218, 2.00532533, 2.00846847,\n",
       "       2.01161161, 2.01475475, 2.0178979 , 2.02104104, 2.02418418,\n",
       "       2.02732733, 2.03047047, 2.03361361, 2.03675676, 2.0398999 ,\n",
       "       2.04304304, 2.04618619, 2.04932933, 2.05247247, 2.05561562,\n",
       "       2.05875876, 2.0619019 , 2.06504505, 2.06818819, 2.07133133,\n",
       "       2.07447447, 2.07761762, 2.08076076, 2.0839039 , 2.08704705,\n",
       "       2.09019019, 2.09333333, 2.09647648, 2.09961962, 2.10276276,\n",
       "       2.10590591, 2.10904905, 2.11219219, 2.11533534, 2.11847848,\n",
       "       2.12162162, 2.12476476, 2.12790791, 2.13105105, 2.13419419,\n",
       "       2.13733734, 2.14048048, 2.14362362, 2.14676677, 2.14990991,\n",
       "       2.15305305, 2.1561962 , 2.15933934, 2.16248248, 2.16562563,\n",
       "       2.16876877, 2.17191191, 2.17505506, 2.1781982 , 2.18134134,\n",
       "       2.18448448, 2.18762763, 2.19077077, 2.19391391, 2.19705706,\n",
       "       2.2002002 , 2.20334334, 2.20648649, 2.20962963, 2.21277277,\n",
       "       2.21591592, 2.21905906, 2.2222022 , 2.22534535, 2.22848849,\n",
       "       2.23163163, 2.23477477, 2.23791792, 2.24106106, 2.2442042 ,\n",
       "       2.24734735, 2.25049049, 2.25363363, 2.25677678, 2.25991992,\n",
       "       2.26306306, 2.26620621, 2.26934935, 2.27249249, 2.27563564,\n",
       "       2.27877878, 2.28192192, 2.28506507, 2.28820821, 2.29135135,\n",
       "       2.29449449, 2.29763764, 2.30078078, 2.30392392, 2.30706707,\n",
       "       2.31021021, 2.31335335, 2.3164965 , 2.31963964, 2.32278278,\n",
       "       2.32592593, 2.32906907, 2.33221221, 2.33535536, 2.3384985 ,\n",
       "       2.34164164, 2.34478478, 2.34792793, 2.35107107, 2.35421421,\n",
       "       2.35735736, 2.3605005 , 2.36364364, 2.36678679, 2.36992993,\n",
       "       2.37307307, 2.37621622, 2.37935936, 2.3825025 , 2.38564565,\n",
       "       2.38878879, 2.39193193, 2.39507508, 2.39821822, 2.40136136,\n",
       "       2.4045045 , 2.40764765, 2.41079079, 2.41393393, 2.41707708,\n",
       "       2.42022022, 2.42336336, 2.42650651, 2.42964965, 2.43279279,\n",
       "       2.43593594, 2.43907908, 2.44222222, 2.44536537, 2.44850851,\n",
       "       2.45165165, 2.45479479, 2.45793794, 2.46108108, 2.46422422,\n",
       "       2.46736737, 2.47051051, 2.47365365, 2.4767968 , 2.47993994,\n",
       "       2.48308308, 2.48622623, 2.48936937, 2.49251251, 2.49565566,\n",
       "       2.4987988 , 2.50194194, 2.50508509, 2.50822823, 2.51137137,\n",
       "       2.51451451, 2.51765766, 2.5208008 , 2.52394394, 2.52708709,\n",
       "       2.53023023, 2.53337337, 2.53651652, 2.53965966, 2.5428028 ,\n",
       "       2.54594595, 2.54908909, 2.55223223, 2.55537538, 2.55851852,\n",
       "       2.56166166, 2.5648048 , 2.56794795, 2.57109109, 2.57423423,\n",
       "       2.57737738, 2.58052052, 2.58366366, 2.58680681, 2.58994995,\n",
       "       2.59309309, 2.59623624, 2.59937938, 2.60252252, 2.60566567,\n",
       "       2.60880881, 2.61195195, 2.6150951 , 2.61823824, 2.62138138,\n",
       "       2.62452452, 2.62766767, 2.63081081, 2.63395395, 2.6370971 ,\n",
       "       2.64024024, 2.64338338, 2.64652653, 2.64966967, 2.65281281,\n",
       "       2.65595596, 2.6590991 , 2.66224224, 2.66538539, 2.66852853,\n",
       "       2.67167167, 2.67481481, 2.67795796, 2.6811011 , 2.68424424,\n",
       "       2.68738739, 2.69053053, 2.69367367, 2.69681682, 2.69995996,\n",
       "       2.7031031 , 2.70624625, 2.70938939, 2.71253253, 2.71567568,\n",
       "       2.71881882, 2.72196196, 2.72510511, 2.72824825, 2.73139139,\n",
       "       2.73453453, 2.73767768, 2.74082082, 2.74396396, 2.74710711,\n",
       "       2.75025025, 2.75339339, 2.75653654, 2.75967968, 2.76282282,\n",
       "       2.76596597, 2.76910911, 2.77225225, 2.7753954 , 2.77853854,\n",
       "       2.78168168, 2.78482482, 2.78796797, 2.79111111, 2.79425425,\n",
       "       2.7973974 , 2.80054054, 2.80368368, 2.80682683, 2.80996997,\n",
       "       2.81311311, 2.81625626, 2.8193994 , 2.82254254, 2.82568569,\n",
       "       2.82882883, 2.83197197, 2.83511512, 2.83825826, 2.8414014 ,\n",
       "       2.84454454, 2.84768769, 2.85083083, 2.85397397, 2.85711712,\n",
       "       2.86026026, 2.8634034 , 2.86654655, 2.86968969, 2.87283283,\n",
       "       2.87597598, 2.87911912, 2.88226226, 2.88540541, 2.88854855,\n",
       "       2.89169169, 2.89483483, 2.89797798, 2.90112112, 2.90426426,\n",
       "       2.90740741, 2.91055055, 2.91369369, 2.91683684, 2.91997998,\n",
       "       2.92312312, 2.92626627, 2.92940941, 2.93255255, 2.9356957 ,\n",
       "       2.93883884, 2.94198198, 2.94512513, 2.94826827, 2.95141141,\n",
       "       2.95455455, 2.9576977 , 2.96084084, 2.96398398, 2.96712713,\n",
       "       2.97027027, 2.97341341, 2.97655656, 2.9796997 , 2.98284284,\n",
       "       2.98598599, 2.98912913, 2.99227227, 2.99541542, 2.99855856,\n",
       "       3.0017017 , 3.00484484, 3.00798799, 3.01113113, 3.01427427,\n",
       "       3.01741742, 3.02056056, 3.0237037 , 3.02684685, 3.02998999,\n",
       "       3.03313313, 3.03627628, 3.03941942, 3.04256256, 3.04570571,\n",
       "       3.04884885, 3.05199199, 3.05513514, 3.05827828, 3.06142142,\n",
       "       3.06456456, 3.06770771, 3.07085085, 3.07399399, 3.07713714,\n",
       "       3.08028028, 3.08342342, 3.08656657, 3.08970971, 3.09285285,\n",
       "       3.095996  , 3.09913914, 3.10228228, 3.10542543, 3.10856857,\n",
       "       3.11171171, 3.11485485, 3.117998  , 3.12114114, 3.12428428,\n",
       "       3.12742743, 3.13057057, 3.13371371, 3.13685686, 3.14      ])"
      ]
     },
     "execution_count": 26,
     "metadata": {},
     "output_type": "execute_result"
    }
   ],
   "source": [
    "arr=np.linspace(0,3.14,1000)\n",
    "arr"
   ]
  },
  {
   "cell_type": "code",
   "execution_count": 27,
   "id": "1be2e9ae",
   "metadata": {},
   "outputs": [
    {
     "data": {
      "text/plain": [
       "[<matplotlib.lines.Line2D at 0x20ede795100>]"
      ]
     },
     "execution_count": 27,
     "metadata": {},
     "output_type": "execute_result"
    },
    {
     "data": {
      "image/png": "[encoded data removed]",
      "text/plain": [
       "<Figure size 432x288 with 1 Axes>"
      ]
     },
     "metadata": {
      "needs_background": "light"
     },
     "output_type": "display_data"
    }
   ],
   "source": [
    "plt.plot(np.tan(arr))"
   ]
  },
  {
   "cell_type": "code",
   "execution_count": 28,
   "id": "55f38d7d",
   "metadata": {},
   "outputs": [],
   "source": [
    "x=np.tan(arr)\n",
    "y=np.arange(0,5)"
   ]
  },
  {
   "cell_type": "code",
   "execution_count": 29,
   "id": "e4c33b9c",
   "metadata": {},
   "outputs": [
    {
     "data": {
      "text/plain": [
       "array([ 0.00000000e+00,  3.14315349e-03,  6.28636909e-03,  9.42970891e-03,\n",
       "        1.25732351e-02,  1.57170097e-02,  1.88610949e-02,  2.20055530e-02,\n",
       "        2.51504461e-02,  2.82958364e-02,  3.14417863e-02,  3.45883580e-02,\n",
       "        3.77356140e-02,  4.08836166e-02,  4.40324284e-02,  4.71821120e-02,\n",
       "        5.03327298e-02,  5.34843447e-02,  5.66370195e-02,  5.97908168e-02,\n",
       "        6.29457999e-02,  6.61020315e-02,  6.92595750e-02,  7.24184935e-02,\n",
       "        7.55788505e-02,  7.87407093e-02,  8.19041336e-02,  8.50691870e-02,\n",
       "        8.82359335e-02,  9.14044371e-02,  9.45747617e-02,  9.77469718e-02,\n",
       "        1.00921132e-01,  1.04097306e-01,  1.07275559e-01,  1.10455957e-01,\n",
       "        1.13638563e-01,  1.16823444e-01,  1.20010665e-01,  1.23200291e-01,\n",
       "        1.26392388e-01,  1.29587023e-01,  1.32784261e-01,  1.35984169e-01,\n",
       "        1.39186814e-01,  1.42392262e-01,  1.45600580e-01,  1.48811837e-01,\n",
       "        1.52026099e-01,  1.55243434e-01,  1.58463911e-01,  1.61687597e-01,\n",
       "        1.64914561e-01,  1.68144873e-01,  1.71378601e-01,  1.74615815e-01,\n",
       "        1.77856584e-01,  1.81100978e-01,  1.84349068e-01,  1.87600925e-01,\n",
       "        1.90856619e-01,  1.94116221e-01,  1.97379803e-01,  2.00647437e-01,\n",
       "        2.03919196e-01,  2.07195151e-01,  2.10475375e-01,  2.13759943e-01,\n",
       "        2.17048928e-01,  2.20342403e-01,  2.23640443e-01,  2.26943123e-01,\n",
       "        2.30250518e-01,  2.33562704e-01,  2.36879756e-01,  2.40201752e-01,\n",
       "        2.43528767e-01,  2.46860880e-01,  2.50198168e-01,  2.53540708e-01,\n",
       "        2.56888581e-01,  2.60241864e-01,  2.63600638e-01,  2.66964982e-01,\n",
       "        2.70334976e-01,  2.73710703e-01,  2.77092243e-01,  2.80479679e-01,\n",
       "        2.83873092e-01,  2.87272566e-01,  2.90678185e-01,  2.94090033e-01,\n",
       "        2.97508194e-01,  3.00932754e-01,  3.04363799e-01,  3.07801414e-01,\n",
       "        3.11245687e-01,  3.14696707e-01,  3.18154559e-01,  3.21619335e-01,\n",
       "        3.25091123e-01,  3.28570013e-01,  3.32056096e-01,  3.35549463e-01,\n",
       "        3.39050208e-01,  3.42558421e-01,  3.46074197e-01,  3.49597631e-01,\n",
       "        3.53128816e-01,  3.56667849e-01,  3.60214825e-01,  3.63769843e-01,\n",
       "        3.67332999e-01,  3.70904393e-01,  3.74484124e-01,  3.78072291e-01,\n",
       "        3.81668997e-01,  3.85274343e-01,  3.88888431e-01,  3.92511365e-01,\n",
       "        3.96143250e-01,  3.99784190e-01,  4.03434292e-01,  4.07093663e-01,\n",
       "        4.10762411e-01,  4.14440645e-01,  4.18128473e-01,  4.21826008e-01,\n",
       "        4.25533361e-01,  4.29250644e-01,  4.32977972e-01,  4.36715459e-01,\n",
       "        4.40463220e-01,  4.44221373e-01,  4.47990035e-01,  4.51769326e-01,\n",
       "        4.55559365e-01,  4.59360273e-01,  4.63172173e-01,  4.66995188e-01,\n",
       "        4.70829442e-01,  4.74675062e-01,  4.78532175e-01,  4.82400908e-01,\n",
       "        4.86281390e-01,  4.90173753e-01,  4.94078128e-01,  4.97994649e-01,\n",
       "        5.01923450e-01,  5.05864667e-01,  5.09818437e-01,  5.13784899e-01,\n",
       "        5.17764193e-01,  5.21756459e-01,  5.25761841e-01,  5.29780484e-01,\n",
       "        5.33812532e-01,  5.37858133e-01,  5.41917436e-01,  5.45990592e-01,\n",
       "        5.50077751e-01,  5.54179069e-01,  5.58294699e-01,  5.62424799e-01,\n",
       "        5.66569527e-01,  5.70729043e-01,  5.74903510e-01,  5.79093090e-01,\n",
       "        5.83297950e-01,  5.87518257e-01,  5.91754179e-01,  5.96005888e-01,\n",
       "        6.00273557e-01,  6.04557360e-01,  6.08857475e-01,  6.13174079e-01,\n",
       "        6.17507355e-01,  6.21857484e-01,  6.26224652e-01,  6.30609046e-01,\n",
       "        6.35010855e-01,  6.39430271e-01,  6.43867487e-01,  6.48322700e-01,\n",
       "        6.52796106e-01,  6.57287909e-01,  6.61798309e-01,  6.66327513e-01,\n",
       "        6.70875728e-01,  6.75443165e-01,  6.80030037e-01,  6.84636559e-01,\n",
       "        6.89262950e-01,  6.93909430e-01,  6.98576223e-01,  7.03263555e-01,\n",
       "        7.07971655e-01,  7.12700755e-01,  7.17451091e-01,  7.22222900e-01,\n",
       "        7.27016422e-01,  7.31831903e-01,  7.36669588e-01,  7.41529728e-01,\n",
       "        7.46412576e-01,  7.51318390e-01,  7.56247428e-01,  7.61199955e-01,\n",
       "        7.66176238e-01,  7.71176546e-01,  7.76201154e-01,  7.81250339e-01,\n",
       "        7.86324383e-01,  7.91423570e-01,  7.96548189e-01,  8.01698534e-01,\n",
       "        8.06874900e-01,  8.12077590e-01,  8.17306906e-01,  8.22563160e-01,\n",
       "        8.27846663e-01,  8.33157734e-01,  8.38496694e-01,  8.43863871e-01,\n",
       "        8.49259595e-01,  8.54684203e-01,  8.60138034e-01,  8.65621435e-01,\n",
       "        8.71134755e-01,  8.76678351e-01,  8.82252582e-01,  8.87857814e-01,\n",
       "        8.93494419e-01,  8.99162772e-01,  9.04863256e-01,  9.10596258e-01,\n",
       "        9.16362172e-01,  9.22161397e-01,  9.27994337e-01,  9.33861404e-01,\n",
       "        9.39763016e-01,  9.45699595e-01,  9.51671572e-01,  9.57679384e-01,\n",
       "        9.63723474e-01,  9.69804291e-01,  9.75922294e-01,  9.82077945e-01,\n",
       "        9.88271717e-01,  9.94504089e-01,  1.00077555e+00,  1.00708658e+00,\n",
       "        1.01343770e+00,  1.01982941e+00,  1.02626222e+00,  1.03273668e+00,\n",
       "        1.03925330e+00,  1.04581263e+00,  1.05241523e+00,  1.05906166e+00,\n",
       "        1.06575248e+00,  1.07248828e+00,  1.07926965e+00,  1.08609718e+00,\n",
       "        1.09297149e+00,  1.09989319e+00,  1.10686291e+00,  1.11388131e+00,\n",
       "        1.12094901e+00,  1.12806670e+00,  1.13523504e+00,  1.14245472e+00,\n",
       "        1.14972644e+00,  1.15705091e+00,  1.16442884e+00,  1.17186098e+00,\n",
       "        1.17934807e+00,  1.18689088e+00,  1.19449017e+00,  1.20214675e+00,\n",
       "        1.20986140e+00,  1.21763495e+00,  1.22546823e+00,  1.23336209e+00,\n",
       "        1.24131740e+00,  1.24933502e+00,  1.25741586e+00,  1.26556083e+00,\n",
       "        1.27377085e+00,  1.28204688e+00,  1.29038988e+00,  1.29880083e+00,\n",
       "        1.30728074e+00,  1.31583062e+00,  1.32445151e+00,  1.33314449e+00,\n",
       "        1.34191062e+00,  1.35075101e+00,  1.35966679e+00,  1.36865910e+00,\n",
       "        1.37772912e+00,  1.38687803e+00,  1.39610705e+00,  1.40541742e+00,\n",
       "        1.41481042e+00,  1.42428733e+00,  1.43384948e+00,  1.44349820e+00,\n",
       "        1.45323488e+00,  1.46306092e+00,  1.47297774e+00,  1.48298682e+00,\n",
       "        1.49308965e+00,  1.50328774e+00,  1.51358267e+00,  1.52397602e+00,\n",
       "        1.53446943e+00,  1.54506454e+00,  1.55576306e+00,  1.56656673e+00,\n",
       "        1.57747732e+00,  1.58849664e+00,  1.59962655e+00,  1.61086895e+00,\n",
       "        1.62222577e+00,  1.63369900e+00,  1.64529066e+00,  1.65700284e+00,\n",
       "        1.66883766e+00,  1.68079729e+00,  1.69288395e+00,  1.70509993e+00,\n",
       "        1.71744756e+00,  1.72992922e+00,  1.74254736e+00,  1.75530448e+00,\n",
       "        1.76820315e+00,  1.78124599e+00,  1.79443571e+00,  1.80777505e+00,\n",
       "        1.82126685e+00,  1.83491401e+00,  1.84871950e+00,  1.86268636e+00,\n",
       "        1.87681774e+00,  1.89111683e+00,  1.90558693e+00,  1.92023141e+00,\n",
       "        1.93505373e+00,  1.95005747e+00,  1.96524627e+00,  1.98062387e+00,\n",
       "        1.99619414e+00,  2.01196104e+00,  2.02792861e+00,  2.04410105e+00,\n",
       "        2.06048265e+00,  2.07707781e+00,  2.09389109e+00,  2.11092715e+00,\n",
       "        2.12819078e+00,  2.14568692e+00,  2.16342067e+00,  2.18139725e+00,\n",
       "        2.19962203e+00,  2.21810058e+00,  2.23683859e+00,  2.25584195e+00,\n",
       "        2.27511673e+00,  2.29466915e+00,  2.31450567e+00,  2.33463292e+00,\n",
       "        2.35505775e+00,  2.37578721e+00,  2.39682859e+00,  2.41818942e+00,\n",
       "        2.43987745e+00,  2.46190070e+00,  2.48426744e+00,  2.50698623e+00,\n",
       "        2.53006590e+00,  2.55351560e+00,  2.57734475e+00,  2.60156315e+00,\n",
       "        2.62618088e+00,  2.65120840e+00,  2.67665655e+00,  2.70253653e+00,\n",
       "        2.72885995e+00,  2.75563883e+00,  2.78288566e+00,  2.81061335e+00,\n",
       "        2.83883532e+00,  2.86756546e+00,  2.89681821e+00,  2.92660855e+00,\n",
       "        2.95695206e+00,  2.98786489e+00,  3.01936385e+00,  3.05146641e+00,\n",
       "        3.08419073e+00,  3.11755574e+00,  3.15158110e+00,  3.18628730e+00,\n",
       "        3.22169571e+00,  3.25782856e+00,  3.29470905e+00,  3.33236140e+00,\n",
       "        3.37081084e+00,  3.41008375e+00,  3.45020766e+00,  3.49121137e+00,\n",
       "        3.53312497e+00,  3.57597993e+00,  3.61980921e+00,  3.66464731e+00,\n",
       "        3.71053039e+00,  3.75749635e+00,  3.80558493e+00,  3.85483788e+00,\n",
       "        3.90529899e+00,  3.95701431e+00,  4.01003225e+00,  4.06440375e+00,\n",
       "        4.12018242e+00,  4.17742475e+00,  4.23619030e+00,  4.29654189e+00,\n",
       "        4.35854586e+00,  4.42227228e+00,  4.48779525e+00,  4.55519318e+00,\n",
       "        4.62454911e+00,  4.69595105e+00,  4.76949236e+00,  4.84527218e+00,\n",
       "        4.92339587e+00,  5.00397549e+00,  5.08713037e+00,  5.17298769e+00,\n",
       "        5.26168315e+00,  5.35336168e+00,  5.44817827e+00,  5.54629880e+00,\n",
       "        5.64790107e+00,  5.75317586e+00,  5.86232817e+00,  5.97557851e+00,\n",
       "        6.09316446e+00,  6.21534230e+00,  6.34238894e+00,  6.47460398e+00,\n",
       "        6.61231215e+00,  6.75586592e+00,  6.90564861e+00,  7.06207779e+00,\n",
       "        7.22560920e+00,  7.39674121e+00,  7.57601996e+00,  7.76404516e+00,\n",
       "        7.96147690e+00,  8.16904337e+00,  8.38754993e+00,  8.61788958e+00,\n",
       "        8.86105524e+00,  9.11815409e+00,  9.39042453e+00,  9.67925622e+00,\n",
       "        9.98621383e+00,  1.03130656e+01,  1.06618174e+01,  1.10347542e+01,\n",
       "        1.14344904e+01,  1.18640311e+01,  1.23268482e+01,  1.28269748e+01,\n",
       "        1.33691229e+01,  1.39588330e+01,  1.46026645e+01,  1.53084408e+01,\n",
       "        1.60855698e+01,  1.69454657e+01,  1.79021149e+01,  1.89728428e+01,\n",
       "        2.01793740e+01,  2.15493232e+01,  2.31183368e+01,  2.49332409e+01,\n",
       "        2.70567984e+01,  2.95751182e+01,  3.26096238e+01,  3.63372254e+01,\n",
       "        4.10261024e+01,  4.71032760e+01,  5.52926526e+01,  6.69273142e+01,\n",
       "        8.47610259e+01,  1.15548151e+02,  1.81452068e+02,  4.22314634e+02,\n",
       "       -1.28991491e+03, -2.55205687e+02, -1.41609995e+02, -9.79909077e+01,\n",
       "       -7.49141665e+01, -6.06337847e+01, -5.09252429e+01, -4.38958698e+01,\n",
       "       -3.85710260e+01, -3.43976907e+01, -3.10387267e+01, -2.82769034e+01,\n",
       "       -2.59659424e+01, -2.40037358e+01, -2.23168442e+01, -2.08510954e+01,\n",
       "       -1.95656546e+01, -1.84291577e+01, -1.74171164e+01, -1.65101316e+01,\n",
       "       -1.56926366e+01, -1.49519958e+01, -1.42778450e+01, -1.36616038e+01,\n",
       "       -1.30961071e+01, -1.25753249e+01, -1.20941464e+01, -1.16482109e+01,\n",
       "       -1.12337755e+01, -1.08476089e+01, -1.04869073e+01, -1.01492258e+01,\n",
       "       -9.83242270e+00, -9.53461407e+00, -9.25413598e+00, -8.98951333e+00,\n",
       "       -8.73943380e+00, -8.50272602e+00, -8.27834111e+00, -8.06533710e+00,\n",
       "       -7.86286565e+00, -7.67016066e+00, -7.48652859e+00, -7.31134004e+00,\n",
       "       -7.14402250e+00, -6.98405410e+00, -6.83095807e+00, -6.68429802e+00,\n",
       "       -6.54367376e+00, -6.40871757e+00, -6.27909102e+00, -6.15448211e+00,\n",
       "       -6.03460269e+00, -5.91918629e+00, -5.80798607e+00, -5.70077307e+00,\n",
       "       -5.59733461e+00, -5.49747287e+00, -5.40100361e+00, -5.30775503e+00,\n",
       "       -5.21756675e+00, -5.13028884e+00, -5.04578103e+00, -4.96391190e+00,\n",
       "       -4.88455822e+00, -4.80760432e+00, -4.73294151e+00, -4.66046756e+00,\n",
       "       -4.59008623e+00, -4.52170685e+00, -4.45524390e+00, -4.39061668e+00,\n",
       "       -4.32774894e+00, -4.26656859e+00, -4.20700745e+00, -4.14900094e+00,\n",
       "       -4.09248787e+00, -4.03741022e+00, -3.98371296e+00, -3.93134379e+00,\n",
       "       -3.88025306e+00, -3.83039354e+00, -3.78172031e+00, -3.73419060e+00,\n",
       "       -3.68776367e+00, -3.64240069e+00, -3.59806465e+00, -3.55472021e+00,\n",
       "       -3.51233364e+00, -3.47087273e+00, -3.43030670e+00, -3.39060609e+00,\n",
       "       -3.35174276e+00, -3.31368975e+00, -3.27642124e+00, -3.23991251e+00,\n",
       "       -3.20413987e+00, -3.16908057e+00, -3.13471284e+00, -3.10101574e+00,\n",
       "       -3.06796919e+00, -3.03555389e+00, -3.00375131e+00, -2.97254362e+00,\n",
       "       -2.94191370e+00, -2.91184504e+00, -2.88232180e+00, -2.85332868e+00,\n",
       "       -2.82485100e+00, -2.79687456e+00, -2.76938572e+00, -2.74237131e+00,\n",
       "       -2.71581863e+00, -2.68971543e+00, -2.66404990e+00, -2.63881062e+00,\n",
       "       -2.61398657e+00, -2.58956712e+00, -2.56554198e+00, -2.54190120e+00,\n",
       "       -2.51863520e+00, -2.49573467e+00, -2.47319063e+00, -2.45099438e+00,\n",
       "       -2.42913751e+00, -2.40761188e+00, -2.38640958e+00, -2.36552299e+00,\n",
       "       -2.34494470e+00, -2.32466754e+00, -2.30468455e+00, -2.28498898e+00,\n",
       "       -2.26557431e+00, -2.24643420e+00, -2.22756247e+00, -2.20895318e+00,\n",
       "       -2.19060051e+00, -2.17249885e+00, -2.15464272e+00, -2.13702683e+00,\n",
       "       -2.11964601e+00, -2.10249524e+00, -2.08556968e+00, -2.06886457e+00,\n",
       "       -2.05237531e+00, -2.03609743e+00, -2.02002658e+00, -2.00415852e+00,\n",
       "       -1.98848912e+00, -1.97301438e+00, -1.95773038e+00, -1.94263334e+00,\n",
       "       -1.92771954e+00, -1.91298538e+00, -1.89842735e+00, -1.88404203e+00,\n",
       "       -1.86982608e+00, -1.85577625e+00, -1.84188937e+00, -1.82816236e+00,\n",
       "       -1.81459221e+00, -1.80117597e+00, -1.78791079e+00, -1.77479387e+00,\n",
       "       -1.76182247e+00, -1.74899396e+00, -1.73630571e+00, -1.72375521e+00,\n",
       "       -1.71133997e+00, -1.69905757e+00, -1.68690567e+00, -1.67488195e+00,\n",
       "       -1.66298417e+00, -1.65121011e+00, -1.63955765e+00, -1.62802466e+00,\n",
       "       -1.61660911e+00, -1.60530898e+00, -1.59412231e+00, -1.58304718e+00,\n",
       "       -1.57208173e+00, -1.56122411e+00, -1.55047253e+00, -1.53982523e+00,\n",
       "       -1.52928050e+00, -1.51883666e+00, -1.50849206e+00, -1.49824509e+00,\n",
       "       -1.48809419e+00, -1.47803779e+00, -1.46807441e+00, -1.45820255e+00,\n",
       "       -1.44842077e+00, -1.43872765e+00, -1.42912181e+00, -1.41960187e+00,\n",
       "       -1.41016652e+00, -1.40081444e+00, -1.39154435e+00, -1.38235500e+00,\n",
       "       -1.37324516e+00, -1.36421362e+00, -1.35525921e+00, -1.34638076e+00,\n",
       "       -1.33757714e+00, -1.32884723e+00, -1.32018995e+00, -1.31160421e+00,\n",
       "       -1.30308898e+00, -1.29464322e+00, -1.28626591e+00, -1.27795607e+00,\n",
       "       -1.26971272e+00, -1.26153490e+00, -1.25342168e+00, -1.24537214e+00,\n",
       "       -1.23738537e+00, -1.22946049e+00, -1.22159662e+00, -1.21379290e+00,\n",
       "       -1.20604851e+00, -1.19836261e+00, -1.19073439e+00, -1.18316306e+00,\n",
       "       -1.17564783e+00, -1.16818794e+00, -1.16078263e+00, -1.15343116e+00,\n",
       "       -1.14613281e+00, -1.13888685e+00, -1.13169258e+00, -1.12454931e+00,\n",
       "       -1.11745636e+00, -1.11041306e+00, -1.10341876e+00, -1.09647280e+00,\n",
       "       -1.08957456e+00, -1.08272340e+00, -1.07591872e+00, -1.06915990e+00,\n",
       "       -1.06244636e+00, -1.05577751e+00, -1.04915278e+00, -1.04257159e+00,\n",
       "       -1.03603339e+00, -1.02953764e+00, -1.02308379e+00, -1.01667132e+00,\n",
       "       -1.01029970e+00, -1.00396842e+00, -9.97676966e-01, -9.91424851e-01,\n",
       "       -9.85211581e-01, -9.79036673e-01, -9.72899651e-01, -9.66800050e-01,\n",
       "       -9.60737406e-01, -9.54711268e-01, -9.48721188e-01, -9.42766727e-01,\n",
       "       -9.36847450e-01, -9.30962932e-01, -9.25112751e-01, -9.19296493e-01,\n",
       "       -9.13513751e-01, -9.07764122e-01, -9.02047209e-01, -8.96362623e-01,\n",
       "       -8.90709979e-01, -8.85088896e-01, -8.79499003e-01, -8.73939930e-01,\n",
       "       -8.68411313e-01, -8.62912796e-01, -8.57444025e-01, -8.52004653e-01,\n",
       "       -8.46594335e-01, -8.41212735e-01, -8.35859518e-01, -8.30534356e-01,\n",
       "       -8.25236924e-01, -8.19966902e-01, -8.14723975e-01, -8.09507832e-01,\n",
       "       -8.04318166e-01, -7.99154673e-01, -7.94017055e-01, -7.88905017e-01,\n",
       "       -7.83818269e-01, -7.78756524e-01, -7.73719497e-01, -7.68706911e-01,\n",
       "       -7.63718488e-01, -7.58753958e-01, -7.53813050e-01, -7.48895501e-01,\n",
       "       -7.44001049e-01, -7.39129434e-01, -7.34280402e-01, -7.29453702e-01,\n",
       "       -7.24649084e-01, -7.19866303e-01, -7.15105116e-01, -7.10365285e-01,\n",
       "       -7.05646573e-01, -7.00948747e-01, -6.96271575e-01, -6.91614830e-01,\n",
       "       -6.86978288e-01, -6.82361726e-01, -6.77764924e-01, -6.73187666e-01,\n",
       "       -6.68629737e-01, -6.64090926e-01, -6.59571024e-01, -6.55069824e-01,\n",
       "       -6.50587121e-01, -6.46122714e-01, -6.41676404e-01, -6.37247993e-01,\n",
       "       -6.32837287e-01, -6.28444092e-01, -6.24068219e-01, -6.19709479e-01,\n",
       "       -6.15367687e-01, -6.11042657e-01, -6.06734210e-01, -6.02442164e-01,\n",
       "       -5.98166341e-01, -5.93906567e-01, -5.89662667e-01, -5.85434469e-01,\n",
       "       -5.81221803e-01, -5.77024501e-01, -5.72842397e-01, -5.68675326e-01,\n",
       "       -5.64523125e-01, -5.60385632e-01, -5.56262690e-01, -5.52154140e-01,\n",
       "       -5.48059826e-01, -5.43979593e-01, -5.39913290e-01, -5.35860764e-01,\n",
       "       -5.31821867e-01, -5.27796450e-01, -5.23784367e-01, -5.19785473e-01,\n",
       "       -5.15799624e-01, -5.11826678e-01, -5.07866494e-01, -5.03918934e-01,\n",
       "       -4.99983858e-01, -4.96061132e-01, -4.92150619e-01, -4.88252186e-01,\n",
       "       -4.84365700e-01, -4.80491030e-01, -4.76628045e-01, -4.72776618e-01,\n",
       "       -4.68936620e-01, -4.65107926e-01, -4.61290409e-01, -4.57483947e-01,\n",
       "       -4.53688415e-01, -4.49903694e-01, -4.46129661e-01, -4.42366198e-01,\n",
       "       -4.38613185e-01, -4.34870507e-01, -4.31138046e-01, -4.27415688e-01,\n",
       "       -4.23703317e-01, -4.20000821e-01, -4.16308088e-01, -4.12625007e-01,\n",
       "       -4.08951466e-01, -4.05287357e-01, -4.01632572e-01, -3.97987002e-01,\n",
       "       -3.94350542e-01, -3.90723086e-01, -3.87104528e-01, -3.83494766e-01,\n",
       "       -3.79893695e-01, -3.76301214e-01, -3.72717220e-01, -3.69141615e-01,\n",
       "       -3.65574297e-01, -3.62015168e-01, -3.58464129e-01, -3.54921083e-01,\n",
       "       -3.51385933e-01, -3.47858584e-01, -3.44338940e-01, -3.40826906e-01,\n",
       "       -3.37322388e-01, -3.33825295e-01, -3.30335532e-01, -3.26853008e-01,\n",
       "       -3.23377633e-01, -3.19909316e-01, -3.16447966e-01, -3.12993495e-01,\n",
       "       -3.09545815e-01, -3.06104837e-01, -3.02670474e-01, -2.99242639e-01,\n",
       "       -2.95821246e-01, -2.92406210e-01, -2.88997445e-01, -2.85594868e-01,\n",
       "       -2.82198394e-01, -2.78807939e-01, -2.75423422e-01, -2.72044760e-01,\n",
       "       -2.68671871e-01, -2.65304674e-01, -2.61943088e-01, -2.58587033e-01,\n",
       "       -2.55236429e-01, -2.51891196e-01, -2.48551256e-01, -2.45216531e-01,\n",
       "       -2.41886943e-01, -2.38562413e-01, -2.35242865e-01, -2.31928223e-01,\n",
       "       -2.28618410e-01, -2.25313350e-01, -2.22012968e-01, -2.18717190e-01,\n",
       "       -2.15425939e-01, -2.12139142e-01, -2.08856726e-01, -2.05578617e-01,\n",
       "       -2.02304741e-01, -1.99035026e-01, -1.95769400e-01, -1.92507790e-01,\n",
       "       -1.89250125e-01, -1.85996333e-01, -1.82746343e-01, -1.79500085e-01,\n",
       "       -1.76257487e-01, -1.73018481e-01, -1.69782995e-01, -1.66550961e-01,\n",
       "       -1.63322309e-01, -1.60096970e-01, -1.56874876e-01, -1.53655958e-01,\n",
       "       -1.50440147e-01, -1.47227376e-01, -1.44017577e-01, -1.40810683e-01,\n",
       "       -1.37606626e-01, -1.34405340e-01, -1.31206757e-01, -1.28010812e-01,\n",
       "       -1.24817437e-01, -1.21626567e-01, -1.18438136e-01, -1.15252077e-01,\n",
       "       -1.12068327e-01, -1.08886818e-01, -1.05707486e-01, -1.02530267e-01,\n",
       "       -9.93550940e-02, -9.61819040e-02, -9.30106321e-02, -8.98412138e-02,\n",
       "       -8.66735850e-02, -8.35076817e-02, -8.03434398e-02, -7.71807957e-02,\n",
       "       -7.40196857e-02, -7.08600463e-02, -6.77018139e-02, -6.45449255e-02,\n",
       "       -6.13893176e-02, -5.82349274e-02, -5.50816917e-02, -5.19295476e-02,\n",
       "       -4.87784324e-02, -4.56282832e-02, -4.24790375e-02, -3.93306327e-02,\n",
       "       -3.61830062e-02, -3.30360955e-02, -2.98898383e-02, -2.67441723e-02,\n",
       "       -2.35990350e-02, -2.04543643e-02, -1.73100979e-02, -1.41661737e-02,\n",
       "       -1.10225294e-02, -7.87910292e-03, -4.73583214e-03, -1.59265494e-03])"
      ]
     },
     "execution_count": 29,
     "metadata": {},
     "output_type": "execute_result"
    }
   ],
   "source": [
    "x"
   ]
  },
  {
   "cell_type": "code",
   "execution_count": 30,
   "id": "ad5b3c48",
   "metadata": {},
   "outputs": [
    {
     "data": {
      "text/plain": [
       "array([0, 1, 2, 3, 4])"
      ]
     },
     "execution_count": 30,
     "metadata": {},
     "output_type": "execute_result"
    }
   ],
   "source": [
    "y"
   ]
  },
  {
   "cell_type": "code",
   "execution_count": 31,
   "id": "834c9f00",
   "metadata": {},
   "outputs": [],
   "source": [
    "x=complex(3,5)\n",
    "y=complex(2,4)"
   ]
  },
  {
   "cell_type": "code",
   "execution_count": 32,
   "id": "4e91e5fd",
   "metadata": {},
   "outputs": [
    {
     "data": {
      "text/plain": [
       "(1+1j)"
      ]
     },
     "execution_count": 32,
     "metadata": {},
     "output_type": "execute_result"
    }
   ],
   "source": [
    "val=x-y\n",
    "val"
   ]
  },
  {
   "cell_type": "code",
   "execution_count": 33,
   "id": "96ed0bee",
   "metadata": {},
   "outputs": [
    {
     "data": {
      "text/plain": [
       "1.0"
      ]
     },
     "execution_count": 33,
     "metadata": {},
     "output_type": "execute_result"
    }
   ],
   "source": [
    "np.real(val)"
   ]
  },
  {
   "cell_type": "code",
   "execution_count": 34,
   "id": "3bada258",
   "metadata": {},
   "outputs": [
    {
     "data": {
      "text/plain": [
       "1.0"
      ]
     },
     "execution_count": 34,
     "metadata": {},
     "output_type": "execute_result"
    }
   ],
   "source": [
    "np.imag(val)"
   ]
  },
  {
   "cell_type": "markdown",
   "id": "b4606fff",
   "metadata": {},
   "source": [
    "norm is a generral form of finding distance of ndim point to origin it is used in ML"
   ]
  },
  {
   "cell_type": "markdown",
   "id": "4dfde220",
   "metadata": {},
   "source": [
    "(summation i=1 to n (abs(xi)* * P)* *1/p"
   ]
  },
  {
   "cell_type": "markdown",
   "id": "5f71f745",
   "metadata": {},
   "source": []
  },
  {
   "cell_type": "markdown",
   "id": "70796cf0",
   "metadata": {},
   "source": [
    "eigen vector : (a-lamdaI)V=0"
   ]
  },
  {
   "cell_type": "code",
   "execution_count": 35,
   "id": "b67f3255",
   "metadata": {},
   "outputs": [
    {
     "data": {
      "text/plain": [
       "array([[1, 1, 1, 1],\n",
       "       [1, 1, 1, 1],\n",
       "       [1, 1, 1, 1],\n",
       "       [1, 1, 1, 1]])"
      ]
     },
     "execution_count": 35,
     "metadata": {},
     "output_type": "execute_result"
    }
   ],
   "source": [
    "np.full([4, 4], 1, dtype = int)"
   ]
  },
  {
   "cell_type": "code",
   "execution_count": 36,
   "id": "a7eb5e60",
   "metadata": {},
   "outputs": [],
   "source": [
    "from scipy import integrate as si \n"
   ]
  },
  {
   "cell_type": "code",
   "execution_count": 37,
   "id": "5d59ff27",
   "metadata": {},
   "outputs": [],
   "source": [
    "def ef (t,n,x):\n",
    "    return np.exp(-t*x)/t**n"
   ]
  },
  {
   "cell_type": "code",
   "execution_count": 38,
   "id": "d9651f24",
   "metadata": {},
   "outputs": [],
   "source": [
    "def ei(n,x):\n",
    "    return si.quad(ef,1,np.inf,args = (n,x))"
   ]
  },
  {
   "cell_type": "code",
   "execution_count": 39,
   "id": "d7b4e073",
   "metadata": {},
   "outputs": [
    {
     "data": {
      "text/plain": [
       "0.016916910404576588"
      ]
     },
     "execution_count": 39,
     "metadata": {},
     "output_type": "execute_result"
    }
   ],
   "source": [
    "ef(2,3,1)"
   ]
  },
  {
   "cell_type": "code",
   "execution_count": 40,
   "id": "dc172267",
   "metadata": {},
   "outputs": [
    {
     "data": {
      "text/plain": [
       "0.10969196719780967"
      ]
     },
     "execution_count": 40,
     "metadata": {},
     "output_type": "execute_result"
    }
   ],
   "source": [
    "ei(3,1)[0]"
   ]
  },
  {
   "cell_type": "code",
   "execution_count": 41,
   "id": "94f25520",
   "metadata": {},
   "outputs": [],
   "source": [
    "#ri = si.quad(lambda x: ei(1,x),0,np.inf)"
   ]
  },
  {
   "cell_type": "code",
   "execution_count": 42,
   "id": "1cfaac04",
   "metadata": {},
   "outputs": [],
   "source": [
    "from scipy import special as spl "
   ]
  },
  {
   "cell_type": "code",
   "execution_count": 43,
   "id": "010dc790",
   "metadata": {},
   "outputs": [],
   "source": [
    "px=[0.4,0.6]"
   ]
  },
  {
   "cell_type": "code",
   "execution_count": 44,
   "id": "d71830ee",
   "metadata": {},
   "outputs": [
    {
     "data": {
      "text/plain": [
       "array([0.36651629, 0.30649537])"
      ]
     },
     "execution_count": 44,
     "metadata": {},
     "output_type": "execute_result"
    }
   ],
   "source": [
    "en = spl.entr(px)\n",
    "en"
   ]
  },
  {
   "cell_type": "code",
   "execution_count": 45,
   "id": "d4065e2e",
   "metadata": {},
   "outputs": [
    {
     "data": {
      "text/plain": [
       "0.6730116670092565"
      ]
     },
     "execution_count": 45,
     "metadata": {},
     "output_type": "execute_result"
    }
   ],
   "source": [
    "np.sum(en)"
   ]
  },
  {
   "cell_type": "code",
   "execution_count": 46,
   "id": "82390a70",
   "metadata": {},
   "outputs": [],
   "source": [
    "py = [0.3,0.4]"
   ]
  },
  {
   "cell_type": "code",
   "execution_count": 47,
   "id": "7c141d6d",
   "metadata": {},
   "outputs": [
    {
     "data": {
      "text/plain": [
       "array([0.01507283, 0.04327906])"
      ]
     },
     "execution_count": 47,
     "metadata": {},
     "output_type": "execute_result"
    }
   ],
   "source": [
    "kldiv=spl.kl_div(px,py)\n",
    "kldiv"
   ]
  },
  {
   "cell_type": "code",
   "execution_count": 48,
   "id": "1f3e3e63",
   "metadata": {},
   "outputs": [
    {
     "data": {
      "text/plain": [
       "0.05835189384561096"
      ]
     },
     "execution_count": 48,
     "metadata": {},
     "output_type": "execute_result"
    }
   ],
   "source": [
    "np.sum(kldiv)"
   ]
  },
  {
   "cell_type": "code",
   "execution_count": 49,
   "id": "cc9234ec",
   "metadata": {},
   "outputs": [
    {
     "data": {
      "text/plain": [
       "array([0.        , 0.06346652, 0.12693304, 0.19039955, 0.25386607,\n",
       "       0.31733259, 0.38079911, 0.44426563, 0.50773215, 0.57119866,\n",
       "       0.63466518, 0.6981317 , 0.76159822, 0.82506474, 0.88853126,\n",
       "       0.95199777, 1.01546429, 1.07893081, 1.14239733, 1.20586385,\n",
       "       1.26933037, 1.33279688, 1.3962634 , 1.45972992, 1.52319644,\n",
       "       1.58666296, 1.65012947, 1.71359599, 1.77706251, 1.84052903,\n",
       "       1.90399555, 1.96746207, 2.03092858, 2.0943951 , 2.15786162,\n",
       "       2.22132814, 2.28479466, 2.34826118, 2.41172769, 2.47519421,\n",
       "       2.53866073, 2.60212725, 2.66559377, 2.72906028, 2.7925268 ,\n",
       "       2.85599332, 2.91945984, 2.98292636, 3.04639288, 3.10985939,\n",
       "       3.17332591, 3.23679243, 3.30025895, 3.36372547, 3.42719199,\n",
       "       3.4906585 , 3.55412502, 3.61759154, 3.68105806, 3.74452458,\n",
       "       3.8079911 , 3.87145761, 3.93492413, 3.99839065, 4.06185717,\n",
       "       4.12532369, 4.1887902 , 4.25225672, 4.31572324, 4.37918976,\n",
       "       4.44265628, 4.5061228 , 4.56958931, 4.63305583, 4.69652235,\n",
       "       4.75998887, 4.82345539, 4.88692191, 4.95038842, 5.01385494,\n",
       "       5.07732146, 5.14078798, 5.2042545 , 5.26772102, 5.33118753,\n",
       "       5.39465405, 5.45812057, 5.52158709, 5.58505361, 5.64852012,\n",
       "       5.71198664, 5.77545316, 5.83891968, 5.9023862 , 5.96585272,\n",
       "       6.02931923, 6.09278575, 6.15625227, 6.21971879, 6.28318531])"
      ]
     },
     "execution_count": 49,
     "metadata": {},
     "output_type": "execute_result"
    }
   ],
   "source": [
    "x=np.linspace (0,2*np.pi,100)\n",
    "x"
   ]
  },
  {
   "cell_type": "code",
   "execution_count": 50,
   "id": "2001f9b9",
   "metadata": {},
   "outputs": [
    {
     "data": {
      "text/plain": [
       "array([ 0.00000000e+00,  6.34239197e-02,  1.26592454e-01,  1.89251244e-01,\n",
       "        2.51147987e-01,  3.12033446e-01,  3.71662456e-01,  4.29794912e-01,\n",
       "        4.86196736e-01,  5.40640817e-01,  5.92907929e-01,  6.42787610e-01,\n",
       "        6.90079011e-01,  7.34591709e-01,  7.76146464e-01,  8.14575952e-01,\n",
       "        8.49725430e-01,  8.81453363e-01,  9.09631995e-01,  9.34147860e-01,\n",
       "        9.54902241e-01,  9.71811568e-01,  9.84807753e-01,  9.93838464e-01,\n",
       "        9.98867339e-01,  9.99874128e-01,  9.96854776e-01,  9.89821442e-01,\n",
       "        9.78802446e-01,  9.63842159e-01,  9.45000819e-01,  9.22354294e-01,\n",
       "        8.95993774e-01,  8.66025404e-01,  8.32569855e-01,  7.95761841e-01,\n",
       "        7.55749574e-01,  7.12694171e-01,  6.66769001e-01,  6.18158986e-01,\n",
       "        5.67059864e-01,  5.13677392e-01,  4.58226522e-01,  4.00930535e-01,\n",
       "        3.42020143e-01,  2.81732557e-01,  2.20310533e-01,  1.58001396e-01,\n",
       "        9.50560433e-02,  3.17279335e-02, -3.17279335e-02, -9.50560433e-02,\n",
       "       -1.58001396e-01, -2.20310533e-01, -2.81732557e-01, -3.42020143e-01,\n",
       "       -4.00930535e-01, -4.58226522e-01, -5.13677392e-01, -5.67059864e-01,\n",
       "       -6.18158986e-01, -6.66769001e-01, -7.12694171e-01, -7.55749574e-01,\n",
       "       -7.95761841e-01, -8.32569855e-01, -8.66025404e-01, -8.95993774e-01,\n",
       "       -9.22354294e-01, -9.45000819e-01, -9.63842159e-01, -9.78802446e-01,\n",
       "       -9.89821442e-01, -9.96854776e-01, -9.99874128e-01, -9.98867339e-01,\n",
       "       -9.93838464e-01, -9.84807753e-01, -9.71811568e-01, -9.54902241e-01,\n",
       "       -9.34147860e-01, -9.09631995e-01, -8.81453363e-01, -8.49725430e-01,\n",
       "       -8.14575952e-01, -7.76146464e-01, -7.34591709e-01, -6.90079011e-01,\n",
       "       -6.42787610e-01, -5.92907929e-01, -5.40640817e-01, -4.86196736e-01,\n",
       "       -4.29794912e-01, -3.71662456e-01, -3.12033446e-01, -2.51147987e-01,\n",
       "       -1.89251244e-01, -1.26592454e-01, -6.34239197e-02, -2.44929360e-16])"
      ]
     },
     "execution_count": 50,
     "metadata": {},
     "output_type": "execute_result"
    }
   ],
   "source": [
    "y=np.sin(x)\n",
    "y"
   ]
  },
  {
   "cell_type": "code",
   "execution_count": 51,
   "id": "27fff43e",
   "metadata": {},
   "outputs": [
    {
     "data": {
      "text/plain": [
       "array([ 1.        ,  0.99798668,  0.99195481,  0.9819287 ,  0.9679487 ,\n",
       "        0.95007112,  0.92836793,  0.90292654,  0.87384938,  0.84125353,\n",
       "        0.80527026,  0.76604444,  0.72373404,  0.67850941,  0.63055267,\n",
       "        0.58005691,  0.52722547,  0.47227107,  0.41541501,  0.35688622,\n",
       "        0.29692038,  0.23575894,  0.17364818,  0.1108382 ,  0.04758192,\n",
       "       -0.01586596, -0.07924996, -0.14231484, -0.20480667, -0.26647381,\n",
       "       -0.32706796, -0.38634513, -0.44406661, -0.5       , -0.55392006,\n",
       "       -0.60560969, -0.65486073, -0.70147489, -0.74526445, -0.78605309,\n",
       "       -0.82367658, -0.85798341, -0.88883545, -0.91610846, -0.93969262,\n",
       "       -0.95949297, -0.97542979, -0.98743889, -0.99547192, -0.99949654,\n",
       "       -0.99949654, -0.99547192, -0.98743889, -0.97542979, -0.95949297,\n",
       "       -0.93969262, -0.91610846, -0.88883545, -0.85798341, -0.82367658,\n",
       "       -0.78605309, -0.74526445, -0.70147489, -0.65486073, -0.60560969,\n",
       "       -0.55392006, -0.5       , -0.44406661, -0.38634513, -0.32706796,\n",
       "       -0.26647381, -0.20480667, -0.14231484, -0.07924996, -0.01586596,\n",
       "        0.04758192,  0.1108382 ,  0.17364818,  0.23575894,  0.29692038,\n",
       "        0.35688622,  0.41541501,  0.47227107,  0.52722547,  0.58005691,\n",
       "        0.63055267,  0.67850941,  0.72373404,  0.76604444,  0.80527026,\n",
       "        0.84125353,  0.87384938,  0.90292654,  0.92836793,  0.95007112,\n",
       "        0.9679487 ,  0.9819287 ,  0.99195481,  0.99798668,  1.        ])"
      ]
     },
     "execution_count": 51,
     "metadata": {},
     "output_type": "execute_result"
    }
   ],
   "source": [
    "z=np.cos(x)\n",
    "z"
   ]
  },
  {
   "cell_type": "code",
   "execution_count": 52,
   "id": "d3c6507d",
   "metadata": {},
   "outputs": [
    {
     "data": {
      "text/plain": [
       "[<matplotlib.lines.Line2D at 0x20eed16dd90>]"
      ]
     },
     "execution_count": 52,
     "metadata": {},
     "output_type": "execute_result"
    },
    {
     "data": {
      "image/png": "[encoded data removed]",
      "text/plain": [
       "<Figure size 432x288 with 1 Axes>"
      ]
     },
     "metadata": {
      "needs_background": "light"
     },
     "output_type": "display_data"
    }
   ],
   "source": [
    "plt.plot(x,z,color =\"pink\",linewidth=4,marker='x')"
   ]
  },
  {
   "cell_type": "code",
   "execution_count": 53,
   "id": "4649125e",
   "metadata": {},
   "outputs": [
    {
     "data": {
      "text/plain": [
       "[<matplotlib.lines.Line2D at 0x20eed1e0790>]"
      ]
     },
     "execution_count": 53,
     "metadata": {},
     "output_type": "execute_result"
    },
    {
     "data": {
      "image/png": "[encoded data removed]",
      "text/plain": [
       "<Figure size 432x288 with 1 Axes>"
      ]
     },
     "metadata": {
      "needs_background": "light"
     },
     "output_type": "display_data"
    }
   ],
   "source": [
    "plt.plot(x,y,color =\"pink\",linewidth=10,marker='x')"
   ]
  },
  {
   "cell_type": "code",
   "execution_count": 54,
   "id": "2d07d502",
   "metadata": {},
   "outputs": [
    {
     "data": {
      "text/plain": [
       "[<matplotlib.lines.Line2D at 0x20eed255520>]"
      ]
     },
     "execution_count": 54,
     "metadata": {},
     "output_type": "execute_result"
    },
    {
     "data": {
      "image/png": "[encoded data removed]",
      "text/plain": [
       "<Figure size 432x288 with 1 Axes>"
      ]
     },
     "metadata": {
      "needs_background": "light"
     },
     "output_type": "display_data"
    }
   ],
   "source": [
    "plt.plot(x,y,color =\"pink\",linewidth=3,marker='+')\n",
    "plt.plot(x,z,color =\"red\",linewidth=5,marker='o')"
   ]
  },
  {
   "cell_type": "code",
   "execution_count": 55,
   "id": "59c99699",
   "metadata": {},
   "outputs": [],
   "source": [
    "x1=np.exp(-x)*np.sin(x)\n",
    "y1=np.exp(-x)*np.cos(x)\n"
   ]
  },
  {
   "cell_type": "code",
   "execution_count": 56,
   "id": "d17277e2",
   "metadata": {},
   "outputs": [
    {
     "data": {
      "text/plain": [
       "[<matplotlib.lines.Line2D at 0x20eed2c9310>]"
      ]
     },
     "execution_count": 56,
     "metadata": {},
     "output_type": "execute_result"
    },
    {
     "data": {
      "image/png": "[encoded data removed]",
      "text/plain": [
       "<Figure size 432x288 with 1 Axes>"
      ]
     },
     "metadata": {
      "needs_background": "light"
     },
     "output_type": "display_data"
    }
   ],
   "source": [
    "plt.plot(x1,y1,color =\"pink\",linewidth=3,marker='+')"
   ]
  },
  {
   "cell_type": "code",
   "execution_count": 57,
   "id": "c58c0af7",
   "metadata": {},
   "outputs": [
    {
     "data": {
      "text/plain": [
       "[<matplotlib.lines.Line2D at 0x20eed32b9d0>]"
      ]
     },
     "execution_count": 57,
     "metadata": {},
     "output_type": "execute_result"
    },
    {
     "data": {
      "image/png": "[encoded data removed]",
      "text/plain": [
       "<Figure size 432x288 with 1 Axes>"
      ]
     },
     "metadata": {
      "needs_background": "light"
     },
     "output_type": "display_data"
    }
   ],
   "source": [
    "plt.plot(x,x1,color =\"brown\",linewidth=3,marker='+')\n",
    "\n"
   ]
  },
  {
   "cell_type": "code",
   "execution_count": 58,
   "id": "dcf9c880",
   "metadata": {},
   "outputs": [
    {
     "data": {
      "text/plain": [
       "[<matplotlib.lines.Line2D at 0x20eed396700>]"
      ]
     },
     "execution_count": 58,
     "metadata": {},
     "output_type": "execute_result"
    },
    {
     "data": {
      "image/png": "[encoded data removed]",
      "text/plain": [
       "<Figure size 432x288 with 1 Axes>"
      ]
     },
     "metadata": {
      "needs_background": "light"
     },
     "output_type": "display_data"
    }
   ],
   "source": [
    "plt.plot(x,y1,color =\"pink\",linewidth=1,marker='d')"
   ]
  },
  {
   "cell_type": "markdown",
   "id": "a8799760",
   "metadata": {},
   "source": [
    "h(si)=plogp - (1-p)log(1-p)\n",
    "besselfxn of order n \n",
    "\n",
    "\n"
   ]
  },
  {
   "cell_type": "code",
   "execution_count": 59,
   "id": "c353f283",
   "metadata": {},
   "outputs": [
    {
     "data": {
      "text/plain": [
       "(<Figure size 432x288 with 2 Axes>,\n",
       " array([<AxesSubplot:>, <AxesSubplot:>], dtype=object))"
      ]
     },
     "execution_count": 59,
     "metadata": {},
     "output_type": "execute_result"
    },
    {
     "data": {
      "image/png": "[encoded data removed]",
      "text/plain": [
       "<Figure size 432x288 with 2 Axes>"
      ]
     },
     "metadata": {
      "needs_background": "light"
     },
     "output_type": "display_data"
    }
   ],
   "source": [
    "plt.subplots(2)"
   ]
  },
  {
   "cell_type": "code",
   "execution_count": 60,
   "id": "ea651c46",
   "metadata": {},
   "outputs": [],
   "source": [
    "x=np.linspace(0,10,100)"
   ]
  },
  {
   "cell_type": "code",
   "execution_count": 61,
   "id": "c416270b",
   "metadata": {},
   "outputs": [
    {
     "data": {
      "text/plain": [
       "array([ 0.        ,  0.1010101 ,  0.2020202 ,  0.3030303 ,  0.4040404 ,\n",
       "        0.50505051,  0.60606061,  0.70707071,  0.80808081,  0.90909091,\n",
       "        1.01010101,  1.11111111,  1.21212121,  1.31313131,  1.41414141,\n",
       "        1.51515152,  1.61616162,  1.71717172,  1.81818182,  1.91919192,\n",
       "        2.02020202,  2.12121212,  2.22222222,  2.32323232,  2.42424242,\n",
       "        2.52525253,  2.62626263,  2.72727273,  2.82828283,  2.92929293,\n",
       "        3.03030303,  3.13131313,  3.23232323,  3.33333333,  3.43434343,\n",
       "        3.53535354,  3.63636364,  3.73737374,  3.83838384,  3.93939394,\n",
       "        4.04040404,  4.14141414,  4.24242424,  4.34343434,  4.44444444,\n",
       "        4.54545455,  4.64646465,  4.74747475,  4.84848485,  4.94949495,\n",
       "        5.05050505,  5.15151515,  5.25252525,  5.35353535,  5.45454545,\n",
       "        5.55555556,  5.65656566,  5.75757576,  5.85858586,  5.95959596,\n",
       "        6.06060606,  6.16161616,  6.26262626,  6.36363636,  6.46464646,\n",
       "        6.56565657,  6.66666667,  6.76767677,  6.86868687,  6.96969697,\n",
       "        7.07070707,  7.17171717,  7.27272727,  7.37373737,  7.47474747,\n",
       "        7.57575758,  7.67676768,  7.77777778,  7.87878788,  7.97979798,\n",
       "        8.08080808,  8.18181818,  8.28282828,  8.38383838,  8.48484848,\n",
       "        8.58585859,  8.68686869,  8.78787879,  8.88888889,  8.98989899,\n",
       "        9.09090909,  9.19191919,  9.29292929,  9.39393939,  9.49494949,\n",
       "        9.5959596 ,  9.6969697 ,  9.7979798 ,  9.8989899 , 10.        ])"
      ]
     },
     "execution_count": 61,
     "metadata": {},
     "output_type": "execute_result"
    }
   ],
   "source": [
    "x"
   ]
  },
  {
   "cell_type": "code",
   "execution_count": 62,
   "id": "4ccee796",
   "metadata": {},
   "outputs": [],
   "source": [
    "y=spl.j0(x)\n",
    "z=spl.j1(x)"
   ]
  },
  {
   "cell_type": "code",
   "execution_count": 63,
   "id": "6bdcc748",
   "metadata": {},
   "outputs": [
    {
     "data": {
      "text/plain": [
       "[<matplotlib.lines.Line2D at 0x20eed4dbd90>]"
      ]
     },
     "execution_count": 63,
     "metadata": {},
     "output_type": "execute_result"
    },
    {
     "data": {
      "image/png": "[encoded data removed]",
      "text/plain": [
       "<Figure size 432x288 with 2 Axes>"
      ]
     },
     "metadata": {
      "needs_background": "light"
     },
     "output_type": "display_data"
    }
   ],
   "source": [
    "fig,axes=plt.subplots(2)\n",
    "axes[0].plot(x,y)\n",
    "axes[1].plot(x,z)"
   ]
  },
  {
   "cell_type": "code",
   "execution_count": 64,
   "id": "4ddc4c67",
   "metadata": {},
   "outputs": [],
   "source": [
    "from scipy import signal as sig "
   ]
  },
  {
   "cell_type": "code",
   "execution_count": 65,
   "id": "0304b92c",
   "metadata": {},
   "outputs": [],
   "source": [
    "#y=sig.convolve(x,filter_response)"
   ]
  },
  {
   "cell_type": "code",
   "execution_count": 66,
   "id": "67f56b31",
   "metadata": {},
   "outputs": [
    {
     "data": {
      "text/plain": [
       "[<matplotlib.lines.Line2D at 0x20eeeb3e730>]"
      ]
     },
     "execution_count": 66,
     "metadata": {},
     "output_type": "execute_result"
    },
    {
     "data": {
      "image/png": "[encoded data removed]",
      "text/plain": [
       "<Figure size 432x288 with 1 Axes>"
      ]
     },
     "metadata": {
      "needs_background": "light"
     },
     "output_type": "display_data"
    }
   ],
   "source": [
    "plt.plot(y)"
   ]
  },
  {
   "cell_type": "code",
   "execution_count": 67,
   "id": "0dc84ab1",
   "metadata": {},
   "outputs": [
    {
     "data": {
      "text/plain": [
       "[<matplotlib.lines.Line2D at 0x20eeec16e80>]"
      ]
     },
     "execution_count": 67,
     "metadata": {},
     "output_type": "execute_result"
    },
    {
     "data": {
      "image/png": "[encoded data removed]",
      "text/plain": [
       "<Figure size 432x288 with 3 Axes>"
      ]
     },
     "metadata": {
      "needs_background": "light"
     },
     "output_type": "display_data"
    }
   ],
   "source": [
    "fig,(ax1,ax2,ax3)=plt.subplots(3)\n",
    "ax1.plot(x)\n",
    "ax3.plot(y)\n",
    "#ax2.plot(filter_response)"
   ]
  },
  {
   "cell_type": "code",
   "execution_count": 68,
   "id": "9f9aaf52",
   "metadata": {},
   "outputs": [],
   "source": [
    "sig_1=np.repeat([1,0,0,1,0,1],100)"
   ]
  },
  {
   "cell_type": "code",
   "execution_count": 69,
   "id": "593e01dc",
   "metadata": {},
   "outputs": [
    {
     "data": {
      "text/plain": [
       "array([1, 1, 1, 1, 1, 1, 1, 1, 1, 1, 1, 1, 1, 1, 1, 1, 1, 1, 1, 1, 1, 1,\n",
       "       1, 1, 1, 1, 1, 1, 1, 1, 1, 1, 1, 1, 1, 1, 1, 1, 1, 1, 1, 1, 1, 1,\n",
       "       1, 1, 1, 1, 1, 1, 1, 1, 1, 1, 1, 1, 1, 1, 1, 1, 1, 1, 1, 1, 1, 1,\n",
       "       1, 1, 1, 1, 1, 1, 1, 1, 1, 1, 1, 1, 1, 1, 1, 1, 1, 1, 1, 1, 1, 1,\n",
       "       1, 1, 1, 1, 1, 1, 1, 1, 1, 1, 1, 1, 0, 0, 0, 0, 0, 0, 0, 0, 0, 0,\n",
       "       0, 0, 0, 0, 0, 0, 0, 0, 0, 0, 0, 0, 0, 0, 0, 0, 0, 0, 0, 0, 0, 0,\n",
       "       0, 0, 0, 0, 0, 0, 0, 0, 0, 0, 0, 0, 0, 0, 0, 0, 0, 0, 0, 0, 0, 0,\n",
       "       0, 0, 0, 0, 0, 0, 0, 0, 0, 0, 0, 0, 0, 0, 0, 0, 0, 0, 0, 0, 0, 0,\n",
       "       0, 0, 0, 0, 0, 0, 0, 0, 0, 0, 0, 0, 0, 0, 0, 0, 0, 0, 0, 0, 0, 0,\n",
       "       0, 0, 0, 0, 0, 0, 0, 0, 0, 0, 0, 0, 0, 0, 0, 0, 0, 0, 0, 0, 0, 0,\n",
       "       0, 0, 0, 0, 0, 0, 0, 0, 0, 0, 0, 0, 0, 0, 0, 0, 0, 0, 0, 0, 0, 0,\n",
       "       0, 0, 0, 0, 0, 0, 0, 0, 0, 0, 0, 0, 0, 0, 0, 0, 0, 0, 0, 0, 0, 0,\n",
       "       0, 0, 0, 0, 0, 0, 0, 0, 0, 0, 0, 0, 0, 0, 0, 0, 0, 0, 0, 0, 0, 0,\n",
       "       0, 0, 0, 0, 0, 0, 0, 0, 0, 0, 0, 0, 0, 0, 1, 1, 1, 1, 1, 1, 1, 1,\n",
       "       1, 1, 1, 1, 1, 1, 1, 1, 1, 1, 1, 1, 1, 1, 1, 1, 1, 1, 1, 1, 1, 1,\n",
       "       1, 1, 1, 1, 1, 1, 1, 1, 1, 1, 1, 1, 1, 1, 1, 1, 1, 1, 1, 1, 1, 1,\n",
       "       1, 1, 1, 1, 1, 1, 1, 1, 1, 1, 1, 1, 1, 1, 1, 1, 1, 1, 1, 1, 1, 1,\n",
       "       1, 1, 1, 1, 1, 1, 1, 1, 1, 1, 1, 1, 1, 1, 1, 1, 1, 1, 1, 1, 1, 1,\n",
       "       1, 1, 1, 1, 0, 0, 0, 0, 0, 0, 0, 0, 0, 0, 0, 0, 0, 0, 0, 0, 0, 0,\n",
       "       0, 0, 0, 0, 0, 0, 0, 0, 0, 0, 0, 0, 0, 0, 0, 0, 0, 0, 0, 0, 0, 0,\n",
       "       0, 0, 0, 0, 0, 0, 0, 0, 0, 0, 0, 0, 0, 0, 0, 0, 0, 0, 0, 0, 0, 0,\n",
       "       0, 0, 0, 0, 0, 0, 0, 0, 0, 0, 0, 0, 0, 0, 0, 0, 0, 0, 0, 0, 0, 0,\n",
       "       0, 0, 0, 0, 0, 0, 0, 0, 0, 0, 0, 0, 0, 0, 0, 0, 1, 1, 1, 1, 1, 1,\n",
       "       1, 1, 1, 1, 1, 1, 1, 1, 1, 1, 1, 1, 1, 1, 1, 1, 1, 1, 1, 1, 1, 1,\n",
       "       1, 1, 1, 1, 1, 1, 1, 1, 1, 1, 1, 1, 1, 1, 1, 1, 1, 1, 1, 1, 1, 1,\n",
       "       1, 1, 1, 1, 1, 1, 1, 1, 1, 1, 1, 1, 1, 1, 1, 1, 1, 1, 1, 1, 1, 1,\n",
       "       1, 1, 1, 1, 1, 1, 1, 1, 1, 1, 1, 1, 1, 1, 1, 1, 1, 1, 1, 1, 1, 1,\n",
       "       1, 1, 1, 1, 1, 1])"
      ]
     },
     "execution_count": 69,
     "metadata": {},
     "output_type": "execute_result"
    }
   ],
   "source": [
    "sig_1"
   ]
  },
  {
   "cell_type": "code",
   "execution_count": 70,
   "id": "2e626c36",
   "metadata": {},
   "outputs": [],
   "source": [
    "x=np.random.randn(1000)+2"
   ]
  },
  {
   "cell_type": "code",
   "execution_count": 71,
   "id": "0a488325",
   "metadata": {},
   "outputs": [
    {
     "data": {
      "text/plain": [
       "array([ 2.2753995 ,  3.7524286 ,  3.2217795 ,  3.42079902,  2.11464566,\n",
       "        2.40590468,  1.3925502 ,  1.70677254,  3.48542877,  1.98127138,\n",
       "        1.28699653,  1.68339232,  0.85714337,  2.17014617,  2.23375796,\n",
       "        0.71128144,  2.14869839,  2.55187167,  0.3805511 ,  1.99010006,\n",
       "        1.26389199,  3.11592613,  1.84113158,  2.87898506,  3.22715265,\n",
       "        1.81925932,  2.3456846 ,  2.67163355,  1.47960562,  2.69861126,\n",
       "        2.89626233,  2.35503278,  3.37926784,  2.77803355,  1.29558727,\n",
       "        0.78403912,  2.98687877,  1.87763345,  0.48174958,  1.17717881,\n",
       "        2.97719657, -0.1026696 ,  1.30231198,  1.74859504,  1.66581982,\n",
       "       -0.40873119,  1.62280999,  2.00295485,  1.95894178,  1.51462511,\n",
       "        2.07046158,  1.19552997,  1.08992057,  1.10385197,  1.4330332 ,\n",
       "        2.13953626,  1.40706897,  2.51904136,  2.30728252,  1.74409016,\n",
       "        2.94126152,  2.84208915,  4.04931327,  1.43357075,  2.28104616,\n",
       "        2.48635792,  4.12839355,  2.19251423,  1.4074539 ,  0.38086728,\n",
       "        3.10370856,  1.240344  ,  2.63946391,  0.92215513,  2.41711796,\n",
       "        0.59415768,  0.59004166,  1.69557987,  2.09621252,  1.14257791,\n",
       "        2.10841971,  3.00265831,  2.33545762,  2.33551091,  4.00292738,\n",
       "        3.76152434,  3.73686374,  1.5017811 ,  2.05430811,  2.41711352,\n",
       "        0.51791037,  0.70663219,  2.09094384,  1.23863184,  1.22840859,\n",
       "        4.23958738,  2.66703729,  2.08101801,  3.65859104,  1.08882827,\n",
       "        2.25097862,  2.51377039,  1.38527752,  1.30548062,  1.15627765,\n",
       "        4.05425164,  1.93821952,  3.54043193,  2.20390049,  3.53823149,\n",
       "        1.72148625,  1.97726192,  1.91782557,  1.30281355,  2.22689894,\n",
       "        0.65565734,  2.51101189,  2.56072003,  1.98204619,  1.62884429,\n",
       "        1.36508937,  0.69777308,  0.57670242,  0.91475588,  1.4289821 ,\n",
       "        1.20180562,  2.32720801,  2.04454099,  2.78967981,  1.58898041,\n",
       "        2.52343032, -0.0785504 ,  1.6155557 ,  2.31666364,  2.91008176,\n",
       "        2.03001337,  1.27666354,  2.3912075 ,  2.43316797,  1.5184889 ,\n",
       "        1.69035138,  2.4574334 ,  0.44921203,  2.92371394,  3.21463132,\n",
       "        0.73798707,  1.80401175,  1.89777349,  2.8100729 ,  1.37494387,\n",
       "        1.64146656,  2.88462627,  0.84649132,  0.81607348,  3.11070966,\n",
       "        2.06570135,  3.36724569,  2.49075844,  1.93324497,  2.25410651,\n",
       "        0.63453867,  1.57541638,  1.34136497,  1.81295089,  2.7365857 ,\n",
       "        1.78374948,  0.89096501,  2.24985721,  1.79004787,  3.13656921,\n",
       "        1.61115169,  1.94294489,  2.38417846,  1.08226707,  1.8935317 ,\n",
       "        1.16044128, -0.12410558,  1.23277061,  2.26535953,  2.75735346,\n",
       "        2.43275992,  2.08139097,  2.60975676,  1.78962674,  2.62889697,\n",
       "        0.55613552,  1.66907458,  2.07139794,  1.46343226,  1.61896744,\n",
       "        1.31849532,  2.06895928,  2.73747979,  2.6347101 ,  1.08043228,\n",
       "        4.31038333,  2.40004336,  2.34273471,  2.00414349,  1.73372189,\n",
       "       -0.77812362,  1.34020653,  1.59789563,  2.49927149,  3.11340551,\n",
       "        3.15233212,  1.74261064,  2.89024876,  2.52836905,  2.19057995,\n",
       "        2.20501759,  0.1901887 ,  0.20292564, -0.08939143,  2.14152606,\n",
       "        3.12836613,  2.4812557 ,  0.25359698,  2.17809407,  1.16804929,\n",
       "        0.59451596,  1.34700695,  0.82623317,  3.42412271,  0.99240525,\n",
       "       -0.16740925,  4.48765809,  4.05003272,  2.71615857,  0.1712381 ,\n",
       "        2.92736115,  2.04917937,  2.47733131,  0.99480527,  1.9596289 ,\n",
       "        2.79694272,  1.62336945,  3.23454634,  3.35036012, -0.31672022,\n",
       "        3.38219047,  2.73163253,  2.1598833 ,  1.85564396,  1.677207  ,\n",
       "        1.5276781 ,  2.04171533,  0.6404262 ,  0.89085384,  1.42972272,\n",
       "       -0.42475591,  3.01370994,  0.6974436 ,  3.51435777,  3.80633075,\n",
       "        1.3030119 ,  1.903228  ,  0.35343009,  3.24343619,  1.31793834,\n",
       "        1.6532877 ,  1.74755588,  0.24850389,  3.59376248,  0.32320463,\n",
       "        3.12055068, -0.19372687,  2.33744465,  3.09553349, -0.21954941,\n",
       "        2.60343482,  1.68672355,  1.38752775,  2.69744976,  3.05911591,\n",
       "        2.17022387,  1.15204541,  3.48192375,  0.2325726 ,  1.86449552,\n",
       "        2.27699486,  2.45783211,  0.47272116,  1.95203685,  2.59652242,\n",
       "        1.97322517,  1.57744243,  3.45889682,  3.21972975,  1.24279238,\n",
       "        1.34594383,  1.29677568,  1.95594643,  2.67599963,  2.50129877,\n",
       "        1.9022872 ,  2.62190312,  0.96377895,  2.78708304,  2.52975476,\n",
       "        3.0979534 ,  4.19707501,  1.16044767,  0.69487575,  3.41982054,\n",
       "        1.23884504,  1.5576376 ,  2.75296643,  2.23401279,  1.54590601,\n",
       "        1.39482447,  1.78383775,  0.89502794,  2.49734985,  0.99210785,\n",
       "        1.78056315,  1.64005277,  0.53308159,  0.81590473,  1.96838256,\n",
       "        3.45402852,  3.43705918,  1.81238243,  1.72430016,  1.71967472,\n",
       "        2.70088921,  3.33396982,  2.95569744,  1.05975836,  1.76930838,\n",
       "        3.10854467,  2.33080067,  1.54826471,  2.12269509,  2.776832  ,\n",
       "        3.43911709,  1.40262663,  1.54263359,  1.43429871,  2.44305886,\n",
       "        1.81507659,  2.32134045,  4.16504114,  2.15551703,  2.87925987,\n",
       "        4.14286976,  1.76745064,  2.16183238,  1.87307416,  2.98983307,\n",
       "        1.29464791,  4.10524952,  3.63674434,  0.96902978,  3.2332589 ,\n",
       "        2.79805603,  1.86088966,  2.7180232 ,  1.13208888,  3.49003442,\n",
       "        2.10821347,  2.46046495,  1.59349312,  1.10950456, -0.46111716,\n",
       "        1.21824231,  2.3874921 ,  2.70882713,  1.0484513 ,  2.33738221,\n",
       "        3.15608336,  1.0452582 ,  1.3563997 ,  1.47311735,  3.28561663,\n",
       "        2.54502214,  2.99740244,  2.94190538,  2.56347036,  2.93071853,\n",
       "        3.08406861,  1.2136219 ,  2.10601239,  1.37536717,  1.58436417,\n",
       "        1.09924235,  1.67166224,  2.11126922,  2.49870194,  3.43126692,\n",
       "        4.00758821,  2.1231921 ,  1.05766942,  2.05644076,  2.32753826,\n",
       "        2.60151761,  3.21402166,  2.35170083,  1.69899139,  1.52634524,\n",
       "        2.17671641,  0.26743181,  3.70071507,  3.23453027,  1.26329115,\n",
       "        2.3314572 ,  2.33025167,  1.97069508,  1.06672402,  1.83132664,\n",
       "        1.69279588,  2.72681743,  0.01989933,  3.15022673,  2.43635493,\n",
       "        3.28250971,  3.29142791,  2.42774228,  3.09809658,  2.65287214,\n",
       "        3.314135  ,  2.4031362 ,  2.92469194,  2.47790406,  3.43276962,\n",
       "        1.04685491,  0.90116031,  3.30345953,  1.31183784,  3.65667933,\n",
       "        1.89034244,  2.1709525 ,  3.7287883 ,  1.87766925,  2.84793713,\n",
       "        0.80162561,  2.98411989,  1.02837716,  2.93936634, -0.15162934,\n",
       "        2.46415628,  1.32351029,  3.55916046,  2.90142133,  2.25017191,\n",
       "        0.73084803, -0.40724918,  1.24073855,  2.63751413,  1.91898301,\n",
       "        3.26426979,  2.95622945,  3.31530338,  1.55777719,  1.51857606,\n",
       "        1.08586415,  1.31755419,  3.50402012,  2.76509162,  1.71780863,\n",
       "        2.1110228 ,  3.1113539 ,  2.84469934,  3.95379424,  1.49264192,\n",
       "        0.13867108,  0.69987699,  3.53968236,  2.58261071,  1.40492269,\n",
       "        1.97164826,  2.89738922,  2.76278198,  1.24426578,  1.48510834,\n",
       "        1.35155303,  1.38660606,  3.03484825,  2.7502624 ,  1.13613128,\n",
       "       -0.37494678,  1.80599942, -0.50475953,  3.77408146, -0.32628207,\n",
       "        2.35026448,  1.51727116,  1.06864164,  2.1102925 ,  2.28238753,\n",
       "        1.89935913,  1.23301577,  2.59143176,  1.4422655 ,  1.14100829,\n",
       "        1.82097438,  2.86693081,  1.64384407,  3.52428041,  2.90790141,\n",
       "        0.9309734 ,  1.59579208,  1.6750257 ,  2.09685772,  2.60450937,\n",
       "        1.81332173,  0.97128256,  1.90222607,  2.95348582,  2.14409655,\n",
       "        4.23584796,  2.72992298,  1.40269132,  2.8105411 ,  0.489572  ,\n",
       "        1.28406981,  2.4445909 ,  1.75437081,  3.11605235,  1.94308314,\n",
       "        2.89029285,  2.02610585,  3.23075237,  2.62869353,  3.50521858,\n",
       "        1.58554821,  2.34189438,  2.32104382,  2.83554995,  0.28540234,\n",
       "        0.57916178,  2.33428443,  2.42307724,  1.20982794,  2.66245853,\n",
       "        2.33685845,  1.15298126,  1.82974259,  2.45210771,  0.98039697,\n",
       "        2.22240285,  2.04750408,  1.93565655,  0.66193791,  2.56649755,\n",
       "        2.11355767,  1.15294599,  2.23597413,  2.81915331,  1.45140267,\n",
       "        2.99358959,  1.89362188,  1.66846734,  2.89991621,  3.24543543,\n",
       "        1.23859862,  2.66005358,  1.67608585,  2.4990774 ,  1.18235984,\n",
       "        1.92060272,  0.17773169,  2.06384016,  0.33503605,  1.21620185,\n",
       "        3.34061756,  2.69014105, -0.34277941,  0.78873342,  1.59549425,\n",
       "        2.06717356,  1.63639764,  1.75116965,  0.45232419,  2.22575366,\n",
       "        0.71266228,  2.85143015,  0.02693099,  1.44116097,  1.43783282,\n",
       "        1.84435999,  0.42388092,  0.80201181,  2.22425459,  0.60121317,\n",
       "        1.76942564,  1.88930484,  1.97575921,  0.99556506,  1.86018332,\n",
       "        0.5587926 ,  2.80705873,  3.475588  ,  2.60671401,  2.78097181,\n",
       "        2.26304086,  2.84518473,  1.63088615,  1.19614561,  2.53382749,\n",
       "        2.11383794,  1.59044628,  2.30723872,  3.91510073,  1.84611021,\n",
       "        1.58300546,  1.83589512,  2.4228281 ,  1.36394967,  0.40515856,\n",
       "        1.29261472,  2.40814835,  3.82837549,  1.72239137,  2.21057239,\n",
       "        1.49534228,  2.14845334,  2.17171426,  1.07619473,  1.74817349,\n",
       "        1.91707562,  3.26439067,  2.04117905,  1.89791082,  1.85224901,\n",
       "        2.52463392,  1.71075266,  0.9394897 ,  1.86729509,  2.97075106,\n",
       "        1.52407455,  2.05416573,  2.67097565,  3.36908464,  2.51692934,\n",
       "        1.96518981,  3.08936022,  1.32711243,  2.00048972,  1.45667779,\n",
       "       -0.12574674,  2.50471524,  2.81644977,  0.04297541,  1.2990351 ,\n",
       "        2.83838751,  2.46040731,  2.61511306,  2.58128423,  1.69896721,\n",
       "        0.89627433,  2.80798843,  2.23088038,  1.65333367,  1.50569757,\n",
       "        4.27950083,  3.0892102 , -0.03175992,  0.7624185 ,  1.93921829,\n",
       "        1.9699483 ,  2.69591716,  2.21701507,  1.89672461,  3.45415894,\n",
       "        2.07513707,  0.69767132,  1.49762378,  1.19536739,  1.14606465,\n",
       "        0.1599389 ,  0.00499522,  1.99548285,  1.91565383,  2.68430565,\n",
       "        0.6421737 ,  1.79792983,  2.45193568,  1.63704366,  4.55310429,\n",
       "        2.8547799 ,  1.42852857,  1.862659  ,  1.57186278,  0.50299487,\n",
       "        1.09211283,  1.93351989,  2.87055607,  0.38488564,  2.11317675,\n",
       "        1.95466066,  2.83838041,  1.51207166,  1.73370232,  1.68549635,\n",
       "        2.96823193,  3.76817092,  2.44427741,  1.06498394,  2.27712049,\n",
       "        3.03363836,  1.73422505, -0.7880246 ,  1.62961161,  3.02368196,\n",
       "        1.62821379,  0.84427269,  1.02778152,  2.56371202,  1.85889755,\n",
       "        2.04063836,  2.03579984,  1.97475721,  1.75946254,  2.78575649,\n",
       "        1.09372939,  2.23615183,  1.79836325,  3.17088245,  2.21221956,\n",
       "        1.43474157,  3.48398778,  4.39729115,  2.43551889,  0.76193783,\n",
       "        0.69277033,  1.02007565,  2.99196081,  2.28773087,  1.7914501 ,\n",
       "        2.24644849,  1.0444102 ,  2.73745053,  2.77899787,  3.14629152,\n",
       "        3.90324332,  1.9559955 ,  3.26975002,  3.20430021,  4.09611102,\n",
       "        3.43825538,  1.27387559,  1.39949925,  1.27599952,  2.10720033,\n",
       "        2.77191265,  0.52548819,  2.6826163 ,  3.22764444,  1.27510235,\n",
       "        2.00130291,  0.95529042,  2.09653777,  3.0117778 ,  1.28947424,\n",
       "        2.04915499,  2.56648875,  1.26763106,  0.69221158,  1.76324834,\n",
       "        2.70016505,  3.08874289,  1.47888469,  1.77188059,  2.62922301,\n",
       "        2.29424518,  3.09581294,  2.16259994,  1.4880722 ,  2.54421691,\n",
       "        0.91862983, -0.49875829,  2.96271376, -0.2637128 ,  1.46167309,\n",
       "        1.76074839,  3.20151355,  3.07100726,  1.43621432,  1.34580221,\n",
       "        2.05406848,  2.36935805,  1.08626014,  2.38616946,  2.74721943,\n",
       "        1.98242308,  1.86519069,  3.44698392, -0.51840718,  1.72026009,\n",
       "        1.62234462,  1.43245451,  1.8316978 ,  1.92430382,  1.19171217,\n",
       "        2.18597312,  2.07118452,  1.9945972 ,  2.02725806,  1.56981521,\n",
       "        0.51877265,  0.77035241,  1.33784317,  1.76628533,  2.37198192,\n",
       "        1.13904713,  2.0914887 ,  1.53970395,  3.42758318,  1.84222653,\n",
       "        1.53550314,  0.89176203,  2.32810263,  1.20523912,  2.94657891,\n",
       "        1.48641772,  1.26729585,  2.5441956 ,  1.76830682,  2.14095345,\n",
       "        2.79673517,  2.32492171, -0.23419939,  3.19041028,  0.57043427,\n",
       "        2.89332602,  1.16646269,  2.3067128 ,  3.05057919,  1.66724806,\n",
       "        3.6991419 ,  2.78556123, -0.05718581,  2.11312035,  2.36937376,\n",
       "        2.69054545,  3.22904177,  3.68104282,  2.08337716,  3.1133402 ,\n",
       "        1.54214008,  0.87369028,  3.05819987,  1.12496548,  1.31680223,\n",
       "       -0.03625574,  2.6412471 ,  0.23085487,  2.46499785,  1.62629061,\n",
       "        1.51270443,  2.14969748,  1.46533988,  2.65155388,  2.71463967,\n",
       "        1.23570222,  1.66644947,  3.1643154 ,  2.9975249 ,  3.20642437,\n",
       "        1.02913883,  1.62338582,  2.93963914,  1.78904206,  4.39876842,\n",
       "        2.14731516,  3.02743625,  1.64164059,  3.86570392,  0.82981027,\n",
       "        2.67882135,  2.54234019,  1.94100363,  2.64263709, -0.28017821,\n",
       "        0.54025734,  1.73065351,  1.56338937,  2.34910099,  3.40147198,\n",
       "        3.35844059,  4.14400867,  2.93068561,  1.6662572 ,  1.98965351,\n",
       "        1.34937139,  1.27997454,  3.23486047,  0.42952934,  2.32567117,\n",
       "        2.57063125,  2.27129424,  2.40474284,  2.81856111, -0.38009585,\n",
       "        1.5168827 ,  0.98777814,  1.34569297,  1.70843544,  2.36508019,\n",
       "        2.36613353,  2.26036075,  1.90924376,  2.53566576,  3.16130373,\n",
       "        2.44582817,  1.62584583,  2.93358551,  1.64503972,  0.72131382,\n",
       "        1.65914909,  2.70180698,  1.85233488,  0.5504048 ,  2.3809182 ,\n",
       "        0.88153961,  2.23273337,  2.28108256,  2.74565673,  1.50817131,\n",
       "        2.73741755,  3.18201283,  2.8889473 ,  1.07438385,  2.88267273,\n",
       "        1.46812463,  0.74050297,  2.74714569,  0.1712591 ,  2.08622545,\n",
       "        1.20278396,  1.26748317,  2.2196536 ,  2.91742863,  1.51672742,\n",
       "        1.94301842,  3.35419719,  2.56672667,  1.07262186,  1.93674306,\n",
       "        2.06338932,  1.58704617,  1.66832678,  1.92888275, -0.1462482 ,\n",
       "        0.95262961,  0.48927657,  2.42229364,  3.03407663,  1.40631811,\n",
       "        2.50657164,  1.17426724,  0.99077989,  1.72370231,  1.62030243,\n",
       "        1.64577076,  2.43111598,  0.86522133,  2.27183204,  1.85669501,\n",
       "        1.2505593 ,  2.3380877 ,  0.41158071,  3.62314444,  1.41359674,\n",
       "        1.7845882 ,  2.11973163,  2.71928056,  3.85537724,  2.86769188,\n",
       "        1.98753678,  2.59023268,  0.64961281,  1.04406348,  1.55213671,\n",
       "        1.42884042,  1.95176826,  1.5309065 ,  2.89893103,  1.28276679,\n",
       "        1.91796375,  1.00918551,  1.75157123,  2.68309088,  2.76901236,\n",
       "        1.17830915,  1.53656207,  2.62010761,  2.98887244,  3.2666385 ,\n",
       "        1.27849345,  2.75797155,  1.07137659,  2.78584743,  1.91336743,\n",
       "        1.92274852,  1.25265214,  3.44345067, -0.1365133 ,  2.88270692])"
      ]
     },
     "execution_count": 71,
     "metadata": {},
     "output_type": "execute_result"
    }
   ],
   "source": [
    "x"
   ]
  },
  {
   "cell_type": "code",
   "execution_count": 72,
   "id": "ad3694e8",
   "metadata": {},
   "outputs": [],
   "source": [
    "sig_2=np.repeat([1,1,0,1,0,1],100)"
   ]
  },
  {
   "cell_type": "code",
   "execution_count": 73,
   "id": "edfed620",
   "metadata": {},
   "outputs": [
    {
     "data": {
      "text/plain": [
       "array([1, 1, 1, 1, 1, 1, 1, 1, 1, 1, 1, 1, 1, 1, 1, 1, 1, 1, 1, 1, 1, 1,\n",
       "       1, 1, 1, 1, 1, 1, 1, 1, 1, 1, 1, 1, 1, 1, 1, 1, 1, 1, 1, 1, 1, 1,\n",
       "       1, 1, 1, 1, 1, 1, 1, 1, 1, 1, 1, 1, 1, 1, 1, 1, 1, 1, 1, 1, 1, 1,\n",
       "       1, 1, 1, 1, 1, 1, 1, 1, 1, 1, 1, 1, 1, 1, 1, 1, 1, 1, 1, 1, 1, 1,\n",
       "       1, 1, 1, 1, 1, 1, 1, 1, 1, 1, 1, 1, 1, 1, 1, 1, 1, 1, 1, 1, 1, 1,\n",
       "       1, 1, 1, 1, 1, 1, 1, 1, 1, 1, 1, 1, 1, 1, 1, 1, 1, 1, 1, 1, 1, 1,\n",
       "       1, 1, 1, 1, 1, 1, 1, 1, 1, 1, 1, 1, 1, 1, 1, 1, 1, 1, 1, 1, 1, 1,\n",
       "       1, 1, 1, 1, 1, 1, 1, 1, 1, 1, 1, 1, 1, 1, 1, 1, 1, 1, 1, 1, 1, 1,\n",
       "       1, 1, 1, 1, 1, 1, 1, 1, 1, 1, 1, 1, 1, 1, 1, 1, 1, 1, 1, 1, 1, 1,\n",
       "       1, 1, 0, 0, 0, 0, 0, 0, 0, 0, 0, 0, 0, 0, 0, 0, 0, 0, 0, 0, 0, 0,\n",
       "       0, 0, 0, 0, 0, 0, 0, 0, 0, 0, 0, 0, 0, 0, 0, 0, 0, 0, 0, 0, 0, 0,\n",
       "       0, 0, 0, 0, 0, 0, 0, 0, 0, 0, 0, 0, 0, 0, 0, 0, 0, 0, 0, 0, 0, 0,\n",
       "       0, 0, 0, 0, 0, 0, 0, 0, 0, 0, 0, 0, 0, 0, 0, 0, 0, 0, 0, 0, 0, 0,\n",
       "       0, 0, 0, 0, 0, 0, 0, 0, 0, 0, 0, 0, 0, 0, 1, 1, 1, 1, 1, 1, 1, 1,\n",
       "       1, 1, 1, 1, 1, 1, 1, 1, 1, 1, 1, 1, 1, 1, 1, 1, 1, 1, 1, 1, 1, 1,\n",
       "       1, 1, 1, 1, 1, 1, 1, 1, 1, 1, 1, 1, 1, 1, 1, 1, 1, 1, 1, 1, 1, 1,\n",
       "       1, 1, 1, 1, 1, 1, 1, 1, 1, 1, 1, 1, 1, 1, 1, 1, 1, 1, 1, 1, 1, 1,\n",
       "       1, 1, 1, 1, 1, 1, 1, 1, 1, 1, 1, 1, 1, 1, 1, 1, 1, 1, 1, 1, 1, 1,\n",
       "       1, 1, 1, 1, 0, 0, 0, 0, 0, 0, 0, 0, 0, 0, 0, 0, 0, 0, 0, 0, 0, 0,\n",
       "       0, 0, 0, 0, 0, 0, 0, 0, 0, 0, 0, 0, 0, 0, 0, 0, 0, 0, 0, 0, 0, 0,\n",
       "       0, 0, 0, 0, 0, 0, 0, 0, 0, 0, 0, 0, 0, 0, 0, 0, 0, 0, 0, 0, 0, 0,\n",
       "       0, 0, 0, 0, 0, 0, 0, 0, 0, 0, 0, 0, 0, 0, 0, 0, 0, 0, 0, 0, 0, 0,\n",
       "       0, 0, 0, 0, 0, 0, 0, 0, 0, 0, 0, 0, 0, 0, 0, 0, 1, 1, 1, 1, 1, 1,\n",
       "       1, 1, 1, 1, 1, 1, 1, 1, 1, 1, 1, 1, 1, 1, 1, 1, 1, 1, 1, 1, 1, 1,\n",
       "       1, 1, 1, 1, 1, 1, 1, 1, 1, 1, 1, 1, 1, 1, 1, 1, 1, 1, 1, 1, 1, 1,\n",
       "       1, 1, 1, 1, 1, 1, 1, 1, 1, 1, 1, 1, 1, 1, 1, 1, 1, 1, 1, 1, 1, 1,\n",
       "       1, 1, 1, 1, 1, 1, 1, 1, 1, 1, 1, 1, 1, 1, 1, 1, 1, 1, 1, 1, 1, 1,\n",
       "       1, 1, 1, 1, 1, 1])"
      ]
     },
     "execution_count": 73,
     "metadata": {},
     "output_type": "execute_result"
    }
   ],
   "source": [
    "sig_2"
   ]
  },
  {
   "cell_type": "code",
   "execution_count": 74,
   "id": "b9731dc5",
   "metadata": {},
   "outputs": [],
   "source": [
    "import scipy.signal as sig"
   ]
  },
  {
   "cell_type": "code",
   "execution_count": 75,
   "id": "3a10bc58",
   "metadata": {},
   "outputs": [
    {
     "data": {
      "text/plain": [
       "[<matplotlib.lines.Line2D at 0x20eeec8ae50>]"
      ]
     },
     "execution_count": 75,
     "metadata": {},
     "output_type": "execute_result"
    },
    {
     "data": {
      "image/png": "[encoded data removed]",
      "text/plain": [
       "<Figure size 432x288 with 1 Axes>"
      ]
     },
     "metadata": {
      "needs_background": "light"
     },
     "output_type": "display_data"
    }
   ],
   "source": [
    "plt.plot(sig_1)"
   ]
  },
  {
   "cell_type": "code",
   "execution_count": 76,
   "id": "cfd4a0d8",
   "metadata": {},
   "outputs": [
    {
     "data": {
      "text/plain": [
       "[<matplotlib.lines.Line2D at 0x20eeed0e820>]"
      ]
     },
     "execution_count": 76,
     "metadata": {},
     "output_type": "execute_result"
    },
    {
     "data": {
      "image/png": "[encoded data removed]",
      "text/plain": [
       "<Figure size 432x288 with 1 Axes>"
      ]
     },
     "metadata": {
      "needs_background": "light"
     },
     "output_type": "display_data"
    }
   ],
   "source": [
    "plt.plot(sig_2)"
   ]
  },
  {
   "cell_type": "code",
   "execution_count": 77,
   "id": "400b3126",
   "metadata": {},
   "outputs": [],
   "source": [
    "corr=sig.correlate(sig_1,sig_2)"
   ]
  },
  {
   "cell_type": "code",
   "execution_count": 78,
   "id": "f93d14d8",
   "metadata": {},
   "outputs": [
    {
     "data": {
      "text/plain": [
       "array([1, 2, 3, ..., 3, 2, 1])"
      ]
     },
     "execution_count": 78,
     "metadata": {},
     "output_type": "execute_result"
    }
   ],
   "source": [
    "corr"
   ]
  },
  {
   "cell_type": "code",
   "execution_count": 79,
   "id": "5b6c3fde",
   "metadata": {},
   "outputs": [
    {
     "data": {
      "text/plain": [
       "[<matplotlib.lines.Line2D at 0x20eeed7a3a0>]"
      ]
     },
     "execution_count": 79,
     "metadata": {},
     "output_type": "execute_result"
    },
    {
     "data": {
      "image/png": "[encoded data removed]",
      "text/plain": [
       "<Figure size 432x288 with 1 Axes>"
      ]
     },
     "metadata": {
      "needs_background": "light"
     },
     "output_type": "display_data"
    }
   ],
   "source": [
    "plt.plot(x)"
   ]
  },
  {
   "cell_type": "code",
   "execution_count": 80,
   "id": "0d1025ce",
   "metadata": {
    "scrolled": true
   },
   "outputs": [
    {
     "data": {
      "image/png": "[encoded data removed]",
      "text/plain": [
       "<Figure size 432x288 with 1 Axes>"
      ]
     },
     "metadata": {
      "needs_background": "light"
     },
     "output_type": "display_data"
    }
   ],
   "source": [
    "p=plt.hist(x,15)"
   ]
  },
  {
   "cell_type": "code",
   "execution_count": 81,
   "id": "826124ad",
   "metadata": {},
   "outputs": [
    {
     "data": {
      "image/png": "[encoded data removed]",
      "text/plain": [
       "<Figure size 432x288 with 1 Axes>"
      ]
     },
     "metadata": {
      "needs_background": "light"
     },
     "output_type": "display_data"
    }
   ],
   "source": [
    "ps=plt.hist(x,1000)"
   ]
  },
  {
   "cell_type": "code",
   "execution_count": 82,
   "id": "975b0d3f",
   "metadata": {},
   "outputs": [],
   "source": [
    "N=1000\n",
    "a=0\n",
    "b=1\n",
    "x=np.random.uniform(a,b,N)"
   ]
  },
  {
   "cell_type": "code",
   "execution_count": 83,
   "id": "87407edf",
   "metadata": {},
   "outputs": [],
   "source": [
    "def g(x):\n",
    "    return np.exp(-x)"
   ]
  },
  {
   "cell_type": "code",
   "execution_count": 84,
   "id": "23ba83a2",
   "metadata": {},
   "outputs": [
    {
     "data": {
      "text/plain": [
       "630.5320831793588"
      ]
     },
     "execution_count": 84,
     "metadata": {},
     "output_type": "execute_result"
    }
   ],
   "source": [
    "b=np.sum(g(x))\n",
    "b"
   ]
  },
  {
   "cell_type": "code",
   "execution_count": 85,
   "id": "c536f4c8",
   "metadata": {},
   "outputs": [
    {
     "data": {
      "text/plain": [
       "397.57070791850185"
      ]
     },
     "execution_count": 85,
     "metadata": {},
     "output_type": "execute_result"
    }
   ],
   "source": [
    "m=np.mean(g(x))*(b-a)\n",
    "m"
   ]
  },
  {
   "cell_type": "code",
   "execution_count": 86,
   "id": "b722b05b",
   "metadata": {},
   "outputs": [
    {
     "data": {
      "text/plain": [
       "250681.08667494537"
      ]
     },
     "execution_count": 86,
     "metadata": {},
     "output_type": "execute_result"
    }
   ],
   "source": [
    "i=(b-a)*m\n",
    "i"
   ]
  },
  {
   "cell_type": "code",
   "execution_count": 87,
   "id": "d752e3e7",
   "metadata": {},
   "outputs": [],
   "source": [
    "f=lambda x:(np.exp(-x**2))*np.log(1+x)\n",
    "f1=lambda x:(np.exp(x**2))*np.log(1+x)"
   ]
  },
  {
   "cell_type": "code",
   "execution_count": 88,
   "id": "fee066dc",
   "metadata": {},
   "outputs": [],
   "source": [
    "import scipy.integrate as si"
   ]
  },
  {
   "cell_type": "code",
   "execution_count": 89,
   "id": "edcac15d",
   "metadata": {},
   "outputs": [],
   "source": [
    "a=si.quad(f,0,1)"
   ]
  },
  {
   "cell_type": "code",
   "execution_count": 90,
   "id": "f41ec254",
   "metadata": {},
   "outputs": [
    {
     "data": {
      "text/plain": [
       "(0.24988303490377417, 2.7742589881338174e-15)"
      ]
     },
     "execution_count": 90,
     "metadata": {},
     "output_type": "execute_result"
    }
   ],
   "source": [
    "a"
   ]
  },
  {
   "cell_type": "code",
   "execution_count": 91,
   "id": "b496ff2b",
   "metadata": {},
   "outputs": [],
   "source": [
    "l=np.linspace(0,1,100)"
   ]
  },
  {
   "cell_type": "code",
   "execution_count": 92,
   "id": "403bec3e",
   "metadata": {},
   "outputs": [
    {
     "data": {
      "text/plain": [
       "[<matplotlib.lines.Line2D at 0x20eef704520>]"
      ]
     },
     "execution_count": 92,
     "metadata": {},
     "output_type": "execute_result"
    },
    {
     "data": {
      "image/png": "[encoded data removed]",
      "text/plain": [
       "<Figure size 432x288 with 1 Axes>"
      ]
     },
     "metadata": {
      "needs_background": "light"
     },
     "output_type": "display_data"
    }
   ],
   "source": [
    "plt.plot(f(l),color='pink')\n"
   ]
  },
  {
   "cell_type": "code",
   "execution_count": 93,
   "id": "631d9fc4",
   "metadata": {},
   "outputs": [
    {
     "data": {
      "text/plain": [
       "[<matplotlib.lines.Line2D at 0x20eef730490>]"
      ]
     },
     "execution_count": 93,
     "metadata": {},
     "output_type": "execute_result"
    },
    {
     "data": {
      "image/png": "[encoded data removed]",
      "text/plain": [
       "<Figure size 432x288 with 1 Axes>"
      ]
     },
     "metadata": {
      "needs_background": "light"
     },
     "output_type": "display_data"
    }
   ],
   "source": [
    "plt.plot(f1(l),color='pink')"
   ]
  },
  {
   "cell_type": "code",
   "execution_count": 94,
   "id": "d0a04531",
   "metadata": {},
   "outputs": [],
   "source": [
    "def rect(x,t):\n",
    "    if (x<=t/2 and x>=-t/2):\n",
    "        return 1/t\n",
    "    else:\n",
    "        return 0"
   ]
  },
  {
   "cell_type": "code",
   "execution_count": 95,
   "id": "f741b3ab",
   "metadata": {},
   "outputs": [],
   "source": [
    "x=np.linspace(-100,100,1000)\n",
    "y=[]\n",
    "for i in range(1000):\n",
    "    y.append(rect(x[i],1))"
   ]
  },
  {
   "cell_type": "code",
   "execution_count": 96,
   "id": "80d36e0e",
   "metadata": {},
   "outputs": [
    {
     "data": {
      "text/plain": [
       "[<matplotlib.lines.Line2D at 0x20eef790d30>]"
      ]
     },
     "execution_count": 96,
     "metadata": {},
     "output_type": "execute_result"
    },
    {
     "data": {
      "image/png": "[encoded data removed]",
      "text/plain": [
       "<Figure size 432x288 with 1 Axes>"
      ]
     },
     "metadata": {
      "needs_background": "light"
     },
     "output_type": "display_data"
    }
   ],
   "source": [
    "time=np.arange(-500,500)\n",
    "plt.plot(time,y)"
   ]
  },
  {
   "cell_type": "code",
   "execution_count": 97,
   "id": "5842a0b1",
   "metadata": {},
   "outputs": [],
   "source": [
    "a=0\n",
    "b=1\n",
    "n=1000"
   ]
  },
  {
   "cell_type": "code",
   "execution_count": 98,
   "id": "bc6bfc16",
   "metadata": {},
   "outputs": [],
   "source": [
    "x=np.random.randn(a,b,n)"
   ]
  },
  {
   "cell_type": "code",
   "execution_count": 99,
   "id": "b16d0f75",
   "metadata": {},
   "outputs": [
    {
     "name": "stderr",
     "output_type": "stream",
     "text": [
      "C:\\Users\\DINESHCHANDRA GADDAM\\AppData\\Local\\Programs\\Python\\Python39\\lib\\site-packages\\numpy\\core\\fromnumeric.py:3440: RuntimeWarning: Mean of empty slice.\n",
      "  return _methods._mean(a, axis=axis, dtype=dtype,\n",
      "C:\\Users\\DINESHCHANDRA GADDAM\\AppData\\Local\\Programs\\Python\\Python39\\lib\\site-packages\\numpy\\core\\_methods.py:189: RuntimeWarning: invalid value encountered in double_scalars\n",
      "  ret = ret.dtype.type(ret / rcount)\n"
     ]
    }
   ],
   "source": [
    "g=lambda x:np.log(1+x);\n",
    "g_x=g(x)\n",
    "mean_gx=np.mean(g_x)"
   ]
  },
  {
   "cell_type": "code",
   "execution_count": 100,
   "id": "daa9f5c7",
   "metadata": {},
   "outputs": [
    {
     "data": {
      "text/plain": [
       "nan"
      ]
     },
     "execution_count": 100,
     "metadata": {},
     "output_type": "execute_result"
    }
   ],
   "source": [
    "np.sqrt(np.pi)*np.mean(g_x)"
   ]
  },
  {
   "cell_type": "code",
   "execution_count": 101,
   "id": "1f845ac1",
   "metadata": {},
   "outputs": [
    {
     "data": {
      "image/png": "[encoded data removed]",
      "text/plain": [
       "<Figure size 432x288 with 3 Axes>"
      ]
     },
     "metadata": {
      "needs_background": "light"
     },
     "output_type": "display_data"
    }
   ],
   "source": [
    "fig,axs=plt.subplots(3,1)\n",
    "x=2*np.random.randn(100)\n",
    "sig_1=np.sin(x)\n",
    "sig_2=np.cos(x)\n",
    "corr=sig.correlate(sig_1,sig_2)\n",
    "axs[0].plot(sig_1)\n",
    "axs[1].plot(sig_2,color='red')\n",
    "axs[2].plot(corr)\n",
    "plt.subplots_adjust(hspace=1)"
   ]
  },
  {
   "cell_type": "code",
   "execution_count": 102,
   "id": "4ff4b3cf",
   "metadata": {},
   "outputs": [],
   "source": [
    "from scipy.optimize import *"
   ]
  },
  {
   "cell_type": "code",
   "execution_count": 103,
   "id": "f7b22e47",
   "metadata": {},
   "outputs": [],
   "source": [
    "def f(x):\n",
    "    return (x-2)**2"
   ]
  },
  {
   "cell_type": "code",
   "execution_count": 104,
   "id": "b1e2cf69",
   "metadata": {},
   "outputs": [
    {
     "data": {
      "text/plain": [
       "     fun: 4.930380657631324e-32\n",
       "    nfev: 9\n",
       "     nit: 4\n",
       " success: True\n",
       "       x: 1.9999999999999998"
      ]
     },
     "execution_count": 104,
     "metadata": {},
     "output_type": "execute_result"
    }
   ],
   "source": [
    "minimize_scalar(f)"
   ]
  },
  {
   "cell_type": "code",
   "execution_count": null,
   "id": "3343007b",
   "metadata": {},
   "outputs": [],
   "source": []
  }
 ],
 "metadata": {
  "kernelspec": {
   "display_name": "Python 3 (ipykernel)",
   "language": "python",
   "name": "python3"
  },
  "language_info": {
   "codemirror_mode": {
    "name": "ipython",
    "version": 3
   },
   "file_extension": ".py",
   "mimetype": "text/x-python",
   "name": "python",
   "nbconvert_exporter": "python",
   "pygments_lexer": "ipython3",
   "version": "3.9.7"
  }
 },
 "nbformat": 4,
 "nbformat_minor": 5
}
